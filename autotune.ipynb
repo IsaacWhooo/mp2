{
 "metadata": {
  "kernelspec": {
   "language": "python",
   "display_name": "Python 3",
   "name": "python3"
  },
  "language_info": {
   "name": "python",
   "version": "3.7.12",
   "mimetype": "text/x-python",
   "codemirror_mode": {
    "name": "ipython",
    "version": 3
   },
   "pygments_lexer": "ipython3",
   "nbconvert_exporter": "python",
   "file_extension": ".py"
  },
  "colab": {
   "provenance": []
  }
 },
 "nbformat_minor": 0,
 "nbformat": 4,
 "cells": [
  {
   "cell_type": "code",
   "source": [
    "from typing import Dict, List, Optional\n",
    "from collections import Counter\n",
    "import os\n",
    "import csv\n",
    "!pip install torchmetrics\n",
    "!pip install pytorch-metric-learning\n",
    "import urllib.request\n",
    "from torch.utils.data import DataLoader\n",
    "!pip install pytorch-lightning\n",
    "import torch.optim as optim\n",
    "import torchmetrics\n",
    "from tqdm import tqdm\n",
    "import torch\n",
    "import torch.nn as nn\n",
    "import torch.nn.functional as F\n",
    "from torch.nn import TransformerEncoder, TransformerEncoderLayer\n",
    "url = 'https://raw.githubusercontent.com/sighsmile/conlleval/master/conlleval.py'\n",
    "filename = 'conlleval.py'\n",
    "urllib.request.urlretrieve(url, filename)\n",
    "from conlleval import evaluate\n"
   ],
   "metadata": {
    "execution": {
     "iopub.status.busy": "2022-02-17T08:25:00.449032Z",
     "iopub.execute_input": "2022-02-17T08:25:00.449347Z",
     "iopub.status.idle": "2022-02-17T08:25:00.482131Z",
     "shell.execute_reply.started": "2022-02-17T08:25:00.449262Z",
     "shell.execute_reply": "2022-02-17T08:25:00.481441Z"
    },
    "trusted": true,
    "id": "SWWjBbIZ5LSi"
   },
   "execution_count": 1,
   "outputs": [
    {
     "name": "stdout",
     "output_type": "stream",
     "text": [
      "Looking in indexes: https://pypi.org/simple, https://pypi.ngc.nvidia.com\n",
      "Requirement already satisfied: torchmetrics in d:\\programfiles\\anaconda\\lib\\site-packages (0.11.4)\n",
      "Requirement already satisfied: torch>=1.8.1 in d:\\programfiles\\anaconda\\lib\\site-packages (from torchmetrics) (2.0.0+cu117)\n",
      "Requirement already satisfied: numpy>=1.17.2 in d:\\programfiles\\anaconda\\lib\\site-packages (from torchmetrics) (1.21.5)\n",
      "Requirement already satisfied: packaging in d:\\programfiles\\anaconda\\lib\\site-packages (from torchmetrics) (21.3)\n",
      "Requirement already satisfied: networkx in d:\\programfiles\\anaconda\\lib\\site-packages (from torch>=1.8.1->torchmetrics) (2.8.4)\n",
      "Requirement already satisfied: jinja2 in d:\\programfiles\\anaconda\\lib\\site-packages (from torch>=1.8.1->torchmetrics) (2.11.3)\n",
      "Requirement already satisfied: typing-extensions in d:\\programfiles\\anaconda\\lib\\site-packages (from torch>=1.8.1->torchmetrics) (4.3.0)\n",
      "Requirement already satisfied: filelock in d:\\programfiles\\anaconda\\lib\\site-packages (from torch>=1.8.1->torchmetrics) (3.6.0)\n",
      "Requirement already satisfied: sympy in d:\\programfiles\\anaconda\\lib\\site-packages (from torch>=1.8.1->torchmetrics) (1.10.1)\n",
      "Requirement already satisfied: pyparsing!=3.0.5,>=2.0.2 in d:\\programfiles\\anaconda\\lib\\site-packages (from packaging->torchmetrics) (3.0.9)\n",
      "Requirement already satisfied: MarkupSafe>=0.23 in d:\\programfiles\\anaconda\\lib\\site-packages (from jinja2->torch>=1.8.1->torchmetrics) (2.0.1)\n",
      "Requirement already satisfied: mpmath>=0.19 in d:\\programfiles\\anaconda\\lib\\site-packages (from sympy->torch>=1.8.1->torchmetrics) (1.2.1)\n",
      "Looking in indexes: https://pypi.org/simple, https://pypi.ngc.nvidia.com\n",
      "Requirement already satisfied: pytorch-metric-learning in d:\\programfiles\\anaconda\\lib\\site-packages (2.0.1)\n",
      "Requirement already satisfied: torch>=1.6.0 in d:\\programfiles\\anaconda\\lib\\site-packages (from pytorch-metric-learning) (2.0.0+cu117)\n",
      "Requirement already satisfied: numpy in d:\\programfiles\\anaconda\\lib\\site-packages (from pytorch-metric-learning) (1.21.5)\n",
      "Requirement already satisfied: scikit-learn in d:\\programfiles\\anaconda\\lib\\site-packages (from pytorch-metric-learning) (1.0.2)\n",
      "Requirement already satisfied: tqdm in d:\\programfiles\\anaconda\\lib\\site-packages (from pytorch-metric-learning) (4.64.1)\n",
      "Requirement already satisfied: filelock in d:\\programfiles\\anaconda\\lib\\site-packages (from torch>=1.6.0->pytorch-metric-learning) (3.6.0)\n",
      "Requirement already satisfied: jinja2 in d:\\programfiles\\anaconda\\lib\\site-packages (from torch>=1.6.0->pytorch-metric-learning) (2.11.3)\n",
      "Requirement already satisfied: sympy in d:\\programfiles\\anaconda\\lib\\site-packages (from torch>=1.6.0->pytorch-metric-learning) (1.10.1)\n",
      "Requirement already satisfied: networkx in d:\\programfiles\\anaconda\\lib\\site-packages (from torch>=1.6.0->pytorch-metric-learning) (2.8.4)\n",
      "Requirement already satisfied: typing-extensions in d:\\programfiles\\anaconda\\lib\\site-packages (from torch>=1.6.0->pytorch-metric-learning) (4.3.0)\n",
      "Requirement already satisfied: joblib>=0.11 in d:\\programfiles\\anaconda\\lib\\site-packages (from scikit-learn->pytorch-metric-learning) (1.1.0)\n",
      "Requirement already satisfied: threadpoolctl>=2.0.0 in d:\\programfiles\\anaconda\\lib\\site-packages (from scikit-learn->pytorch-metric-learning) (2.2.0)\n",
      "Requirement already satisfied: scipy>=1.1.0 in d:\\programfiles\\anaconda\\lib\\site-packages (from scikit-learn->pytorch-metric-learning) (1.9.1)\n",
      "Requirement already satisfied: colorama in d:\\programfiles\\anaconda\\lib\\site-packages (from tqdm->pytorch-metric-learning) (0.4.5)\n",
      "Requirement already satisfied: MarkupSafe>=0.23 in d:\\programfiles\\anaconda\\lib\\site-packages (from jinja2->torch>=1.6.0->pytorch-metric-learning) (2.0.1)\n",
      "Requirement already satisfied: mpmath>=0.19 in d:\\programfiles\\anaconda\\lib\\site-packages (from sympy->torch>=1.6.0->pytorch-metric-learning) (1.2.1)\n",
      "Looking in indexes: https://pypi.org/simple, https://pypi.ngc.nvidia.com\n",
      "Requirement already satisfied: pytorch-lightning in d:\\programfiles\\anaconda\\lib\\site-packages (2.0.0)\n",
      "Requirement already satisfied: torch>=1.11.0 in d:\\programfiles\\anaconda\\lib\\site-packages (from pytorch-lightning) (2.0.0+cu117)\n",
      "Requirement already satisfied: fsspec[http]>2021.06.0 in d:\\programfiles\\anaconda\\lib\\site-packages (from pytorch-lightning) (2022.7.1)\n",
      "Requirement already satisfied: numpy>=1.17.2 in d:\\programfiles\\anaconda\\lib\\site-packages (from pytorch-lightning) (1.21.5)\n",
      "Requirement already satisfied: tqdm>=4.57.0 in d:\\programfiles\\anaconda\\lib\\site-packages (from pytorch-lightning) (4.64.1)\n",
      "Requirement already satisfied: torchmetrics>=0.7.0 in d:\\programfiles\\anaconda\\lib\\site-packages (from pytorch-lightning) (0.11.4)\n",
      "Requirement already satisfied: packaging>=17.1 in d:\\programfiles\\anaconda\\lib\\site-packages (from pytorch-lightning) (21.3)\n",
      "Requirement already satisfied: typing-extensions>=4.0.0 in d:\\programfiles\\anaconda\\lib\\site-packages (from pytorch-lightning) (4.3.0)\n",
      "Requirement already satisfied: lightning-utilities>=0.7.0 in d:\\programfiles\\anaconda\\lib\\site-packages (from pytorch-lightning) (0.8.0)\n",
      "Requirement already satisfied: PyYAML>=5.4 in d:\\programfiles\\anaconda\\lib\\site-packages (from pytorch-lightning) (6.0)\n",
      "Requirement already satisfied: requests in d:\\programfiles\\anaconda\\lib\\site-packages (from fsspec[http]>2021.06.0->pytorch-lightning) (2.28.1)\n",
      "Requirement already satisfied: aiohttp in d:\\programfiles\\anaconda\\lib\\site-packages (from fsspec[http]>2021.06.0->pytorch-lightning) (3.8.4)\n",
      "Requirement already satisfied: pyparsing!=3.0.5,>=2.0.2 in d:\\programfiles\\anaconda\\lib\\site-packages (from packaging>=17.1->pytorch-lightning) (3.0.9)\n",
      "Requirement already satisfied: sympy in d:\\programfiles\\anaconda\\lib\\site-packages (from torch>=1.11.0->pytorch-lightning) (1.10.1)\n",
      "Requirement already satisfied: jinja2 in d:\\programfiles\\anaconda\\lib\\site-packages (from torch>=1.11.0->pytorch-lightning) (2.11.3)\n",
      "Requirement already satisfied: networkx in d:\\programfiles\\anaconda\\lib\\site-packages (from torch>=1.11.0->pytorch-lightning) (2.8.4)\n",
      "Requirement already satisfied: filelock in d:\\programfiles\\anaconda\\lib\\site-packages (from torch>=1.11.0->pytorch-lightning) (3.6.0)\n",
      "Requirement already satisfied: colorama in d:\\programfiles\\anaconda\\lib\\site-packages (from tqdm>=4.57.0->pytorch-lightning) (0.4.5)\n",
      "Requirement already satisfied: attrs>=17.3.0 in d:\\programfiles\\anaconda\\lib\\site-packages (from aiohttp->fsspec[http]>2021.06.0->pytorch-lightning) (21.4.0)\n",
      "Requirement already satisfied: multidict<7.0,>=4.5 in d:\\programfiles\\anaconda\\lib\\site-packages (from aiohttp->fsspec[http]>2021.06.0->pytorch-lightning) (6.0.4)\n",
      "Requirement already satisfied: charset-normalizer<4.0,>=2.0 in d:\\programfiles\\anaconda\\lib\\site-packages (from aiohttp->fsspec[http]>2021.06.0->pytorch-lightning) (2.0.4)\n",
      "Requirement already satisfied: yarl<2.0,>=1.0 in d:\\programfiles\\anaconda\\lib\\site-packages (from aiohttp->fsspec[http]>2021.06.0->pytorch-lightning) (1.8.2)\n",
      "Requirement already satisfied: async-timeout<5.0,>=4.0.0a3 in d:\\programfiles\\anaconda\\lib\\site-packages (from aiohttp->fsspec[http]>2021.06.0->pytorch-lightning) (4.0.2)\n",
      "Requirement already satisfied: aiosignal>=1.1.2 in d:\\programfiles\\anaconda\\lib\\site-packages (from aiohttp->fsspec[http]>2021.06.0->pytorch-lightning) (1.3.1)\n",
      "Requirement already satisfied: frozenlist>=1.1.1 in d:\\programfiles\\anaconda\\lib\\site-packages (from aiohttp->fsspec[http]>2021.06.0->pytorch-lightning) (1.3.3)\n",
      "Requirement already satisfied: MarkupSafe>=0.23 in d:\\programfiles\\anaconda\\lib\\site-packages (from jinja2->torch>=1.11.0->pytorch-lightning) (2.0.1)\n",
      "Requirement already satisfied: urllib3<1.27,>=1.21.1 in d:\\programfiles\\anaconda\\lib\\site-packages (from requests->fsspec[http]>2021.06.0->pytorch-lightning) (1.26.11)\n",
      "Requirement already satisfied: idna<4,>=2.5 in d:\\programfiles\\anaconda\\lib\\site-packages (from requests->fsspec[http]>2021.06.0->pytorch-lightning) (3.3)\n",
      "Requirement already satisfied: certifi>=2017.4.17 in d:\\programfiles\\anaconda\\lib\\site-packages (from requests->fsspec[http]>2021.06.0->pytorch-lightning) (2022.9.14)\n",
      "Requirement already satisfied: mpmath>=0.19 in d:\\programfiles\\anaconda\\lib\\site-packages (from sympy->torch>=1.11.0->pytorch-lightning) (1.2.1)\n"
     ]
    }
   ]
  },
  {
   "cell_type": "code",
   "source": [
    "class Tokenizer:\n",
    "    def __init__(self):\n",
    "        # two special tokens for padding and unknown\n",
    "        self.token2idx = {\"<pad>\": 0, \"<unk>\": 1}\n",
    "        self.idx2token = [\"<pad>\", \"<unk>\"]\n",
    "        self.is_fit = False\n",
    "    \n",
    "    @property\n",
    "    def pad_id(self):\n",
    "        return self.token2idx[\"<pad>\"]\n",
    "    \n",
    "    def __len__(self):\n",
    "        return len(self.idx2token)\n",
    "    \n",
    "    def fit(self, train_texts: List[str]):\n",
    "        counter = Counter()\n",
    "        for text in train_texts:\n",
    "            counter.update(text.lower().split())\n",
    "        \n",
    "        # manually set a vocabulary size for the data set\n",
    "        vocab_size = 20000\n",
    "        self.idx2token.extend([token for token, count in counter.most_common(vocab_size - 2)])\n",
    "        for (i, token) in enumerate(self.idx2token):\n",
    "            self.token2idx[token] = i\n",
    "            \n",
    "        self.is_fit = True\n",
    "                \n",
    "    def encode(self, text: str, max_length: Optional[int] = None) -> List[int]:\n",
    "        if not self.is_fit:\n",
    "            raise Exception(\"Please fit the tokenizer on the training tokens\")\n",
    "            \n",
    "        # Split the text into tokens and encode each token using the token2idx mapping\n",
    "        tokens = text.lower().split()\n",
    "        token_ids = [self.token2idx.get(token, self.token2idx[\"<unk>\"]) for token in tokens]\n",
    "\n",
    "        # Pad or truncate the token ids based on the max_length parameter\n",
    "        if max_length is not None:\n",
    "            if len(token_ids) < max_length:\n",
    "                token_ids += [self.token2idx[\"<pad>\"]] * (max_length - len(token_ids))\n",
    "            else:\n",
    "                token_ids = token_ids[:max_length]\n",
    "\n",
    "        return token_ids\n"
   ],
   "metadata": {
    "execution": {
     "iopub.status.busy": "2022-02-17T08:25:00.483609Z",
     "iopub.execute_input": "2022-02-17T08:25:00.483925Z",
     "iopub.status.idle": "2022-02-17T08:25:00.494599Z",
     "shell.execute_reply.started": "2022-02-17T08:25:00.483881Z",
     "shell.execute_reply": "2022-02-17T08:25:00.493679Z"
    },
    "trusted": true,
    "id": "u29mNAdI5LSl"
   },
   "execution_count": 2,
   "outputs": []
  },
  {
   "cell_type": "code",
   "source": [
    "def load_raw_data(filepath: str, with_tags: bool = True):\n",
    "    data = {'text': []}\n",
    "    if with_tags:\n",
    "        data['tags'] = []\n",
    "        with open(filepath) as f:\n",
    "            reader = csv.reader(f)\n",
    "            for text, tags in reader:\n",
    "                data['text'].append(text)\n",
    "                data['tags'].append(tags)\n",
    "    else:\n",
    "        with open(filepath) as f:\n",
    "            for line in f:\n",
    "                data['text'].append(line.strip())\n",
    "    return data"
   ],
   "metadata": {
    "execution": {
     "iopub.status.busy": "2022-02-17T08:25:00.495804Z",
     "iopub.execute_input": "2022-02-17T08:25:00.496201Z",
     "iopub.status.idle": "2022-02-17T08:25:00.504688Z",
     "shell.execute_reply.started": "2022-02-17T08:25:00.496166Z",
     "shell.execute_reply": "2022-02-17T08:25:00.503898Z"
    },
    "trusted": true,
    "id": "7lHbdxRn5LSm"
   },
   "execution_count": 3,
   "outputs": []
  },
  {
   "cell_type": "code",
   "source": [
    "tokenizer = Tokenizer()\n",
    "data_dir = os.getcwd()\n",
    "train_raw = load_raw_data(os.path.join(data_dir, \"train.csv\"))\n",
    "val_raw = load_raw_data(os.path.join(data_dir, \"val.csv\"))\n",
    "test_raw = load_raw_data(os.path.join(data_dir, \"test_tokens.txt\"), with_tags=False)\n",
    "# fit the tokenizer on the training tokens\n",
    "tokenizer.fit(train_raw['text'])"
   ],
   "metadata": {
    "execution": {
     "iopub.status.busy": "2022-02-17T08:25:00.517671Z",
     "iopub.execute_input": "2022-02-17T08:25:00.518378Z",
     "iopub.status.idle": "2022-02-17T08:25:00.795602Z",
     "shell.execute_reply.started": "2022-02-17T08:25:00.518340Z",
     "shell.execute_reply": "2022-02-17T08:25:00.794913Z"
    },
    "trusted": true,
    "id": "dEuoJh1Q5LSn"
   },
   "execution_count": 4,
   "outputs": []
  },
  {
   "cell_type": "code",
   "execution_count": 5,
   "outputs": [
    {
     "data": {
      "text/plain": "[803, 57, 256, 1313, 755, 1813, 0, 0, 0, 0]"
     },
     "execution_count": 5,
     "metadata": {},
     "output_type": "execute_result"
    }
   ],
   "source": [
    "newtext = 'how are you doing today ?'\n",
    "tokenizer.encode(newtext, max_length=10)\n"
   ],
   "metadata": {
    "collapsed": false
   }
  },
  {
   "cell_type": "code",
   "execution_count": 6,
   "outputs": [
    {
     "name": "stdout",
     "output_type": "stream",
     "text": [
      "14041\n"
     ]
    }
   ],
   "source": [
    "print(len(train_raw['text']))"
   ],
   "metadata": {
    "collapsed": false
   }
  },
  {
   "cell_type": "code",
   "source": [
    "#upload the dataset\n",
    "#for google colb, use this\n",
    "#from google.colab import files\n",
    "#uploaded = files.upload()"
   ],
   "metadata": {
    "id": "94u1vPV-lbXf"
   },
   "execution_count": 7,
   "outputs": []
  },
  {
   "cell_type": "code",
   "source": [
    "class NERDataset: \n",
    "    tag2idx = {'O': 1, 'B-PER': 2, 'I-PER': 3, 'B-ORG': 4, 'I-ORG': 5, 'B-LOC': 6, 'I-LOC': 7, 'B-MISC': 8, 'I-MISC': 9}\n",
    "    idx2tag = ['<pad>', 'O', 'B-PER', 'I-PER', 'B-ORG', 'I-ORG','B-LOC', 'I-LOC', 'B-MISC', 'I-MISC']\n",
    "  \n",
    "    def __init__(self, raw_data: Dict[str, List[str]], tokenizer: Tokenizer, max_length: int = 128):\n",
    "        self.tokenizer = tokenizer\n",
    "        self.token_ids = []\n",
    "        self.tag_ids = []\n",
    "        self.with_tags = False\n",
    "        for text in raw_data['text']:\n",
    "            self.token_ids.append(tokenizer.encode(text, max_length=max_length))\n",
    "        if 'tags' in raw_data:\n",
    "            self.with_tags = True\n",
    "            for tags in raw_data['tags']:\n",
    "                self.tag_ids.append(self.encode_tags(tags, max_length=max_length))\n",
    "\n",
    "    \n",
    "    def encode_tags(self, tags: str, max_length: Optional[int] = None):\n",
    "        tag_ids = [self.tag2idx[tag] for tag in tags.split()]\n",
    "        if max_length is None:\n",
    "            return tag_ids\n",
    "        # truncate the tags if longer than max_length\n",
    "        if len(tag_ids) > max_length:\n",
    "            return tag_ids[:max_length]\n",
    "        # pad with 0s if shorter than max_length\n",
    "        else:\n",
    "            return tag_ids + [0] * (max_length - len(tag_ids))  # 0 as padding for tags\n",
    "        \n",
    "    def __len__(self):\n",
    "        return len(self.token_ids)\n",
    "    \n",
    "    def __getitem__(self, idx):\n",
    "        token_ids = torch.LongTensor(self.token_ids[idx])\n",
    "        mask = token_ids == self.tokenizer.pad_id  # padding tokens\n",
    "        if self.with_tags:\n",
    "            # for training and validation\n",
    "            return token_ids, mask, torch.LongTensor(self.tag_ids[idx])\n",
    "        else:\n",
    "            # for testing\n",
    "            return token_ids, mask\n",
    "        "
   ],
   "metadata": {
    "id": "KzUsGMealyZb"
   },
   "execution_count": 8,
   "outputs": []
  },
  {
   "cell_type": "code",
   "source": [
    "tr_data = NERDataset(train_raw, tokenizer)\n",
    "va_data = NERDataset(val_raw, tokenizer)\n",
    "te_data = NERDataset(test_raw, tokenizer)"
   ],
   "metadata": {
    "execution": {
     "iopub.status.busy": "2022-02-17T08:25:02.109558Z",
     "iopub.execute_input": "2022-02-17T08:25:02.109921Z",
     "iopub.status.idle": "2022-02-17T08:25:02.467151Z",
     "shell.execute_reply.started": "2022-02-17T08:25:02.109883Z",
     "shell.execute_reply": "2022-02-17T08:25:02.466435Z"
    },
    "trusted": true,
    "id": "0kMIKu-p5LSo"
   },
   "execution_count": 9,
   "outputs": []
  },
  {
   "cell_type": "code",
   "execution_count": 10,
   "outputs": [
    {
     "name": "stdout",
     "output_type": "stream",
     "text": [
      "14041\n",
      "The Greek socialist party 's executive bureau gave Prime Minister Costas Simitis its backing if he chooses to call snap elections , its general secretary Costas Skandalidis told reporters on Thursday .\n",
      "(tensor([    2,  1638,  1466,   147,    15,   996,  1877,   407,   229,   103,\n",
      "         2415,  2672,    63,  2698,   141,    26, 11142,     7,   629,  2673,\n",
      "          269,     4,    63,   335,   750,  2415,  4652,    90,   524,    13,\n",
      "           70,     3,     0,     0,     0,     0,     0,     0,     0,     0,\n",
      "            0,     0,     0,     0,     0,     0,     0,     0,     0,     0,\n",
      "            0,     0,     0,     0,     0,     0,     0,     0,     0,     0,\n",
      "            0,     0,     0,     0,     0,     0,     0,     0,     0,     0,\n",
      "            0,     0,     0,     0,     0,     0,     0,     0,     0,     0,\n",
      "            0,     0,     0,     0,     0,     0,     0,     0,     0,     0,\n",
      "            0,     0,     0,     0,     0,     0,     0,     0,     0,     0,\n",
      "            0,     0,     0,     0,     0,     0,     0,     0,     0,     0,\n",
      "            0,     0,     0,     0,     0,     0,     0,     0,     0,     0,\n",
      "            0,     0,     0,     0,     0,     0,     0,     0]), tensor([False, False, False, False, False, False, False, False, False, False,\n",
      "        False, False, False, False, False, False, False, False, False, False,\n",
      "        False, False, False, False, False, False, False, False, False, False,\n",
      "        False, False,  True,  True,  True,  True,  True,  True,  True,  True,\n",
      "         True,  True,  True,  True,  True,  True,  True,  True,  True,  True,\n",
      "         True,  True,  True,  True,  True,  True,  True,  True,  True,  True,\n",
      "         True,  True,  True,  True,  True,  True,  True,  True,  True,  True,\n",
      "         True,  True,  True,  True,  True,  True,  True,  True,  True,  True,\n",
      "         True,  True,  True,  True,  True,  True,  True,  True,  True,  True,\n",
      "         True,  True,  True,  True,  True,  True,  True,  True,  True,  True,\n",
      "         True,  True,  True,  True,  True,  True,  True,  True,  True,  True,\n",
      "         True,  True,  True,  True,  True,  True,  True,  True,  True,  True,\n",
      "         True,  True,  True,  True,  True,  True,  True,  True]), tensor([1, 8, 1, 1, 1, 1, 1, 1, 1, 1, 2, 3, 1, 1, 1, 1, 1, 1, 1, 1, 1, 1, 1, 1,\n",
      "        1, 2, 3, 1, 1, 1, 1, 1, 0, 0, 0, 0, 0, 0, 0, 0, 0, 0, 0, 0, 0, 0, 0, 0,\n",
      "        0, 0, 0, 0, 0, 0, 0, 0, 0, 0, 0, 0, 0, 0, 0, 0, 0, 0, 0, 0, 0, 0, 0, 0,\n",
      "        0, 0, 0, 0, 0, 0, 0, 0, 0, 0, 0, 0, 0, 0, 0, 0, 0, 0, 0, 0, 0, 0, 0, 0,\n",
      "        0, 0, 0, 0, 0, 0, 0, 0, 0, 0, 0, 0, 0, 0, 0, 0, 0, 0, 0, 0, 0, 0, 0, 0,\n",
      "        0, 0, 0, 0, 0, 0, 0, 0]))\n"
     ]
    }
   ],
   "source": [
    "samplenum = 265\n",
    "print(len(tr_data))\n",
    "print(train_raw['text'][samplenum])\n",
    "print(tr_data[samplenum])\n"
   ],
   "metadata": {
    "collapsed": false
   }
  },
  {
   "cell_type": "code",
   "source": [
    "class TransformerModel(nn.Module):\n",
    "    def __init__(self, vocab_size, embed_size, num_heads, hidden_size, num_layers):\n",
    "        super().__init__()\n",
    "        self.embedding = nn.Embedding(vocab_size, embed_size)\n",
    "        encoder_layer = nn.TransformerEncoderLayer(embed_size, num_heads, hidden_size)\n",
    "        self.transformer_encoder = nn.TransformerEncoder(encoder_layer, num_layers)\n",
    "        self.linear = nn.Linear(embed_size, 10)\n",
    "\n",
    "    def forward(self, src, src_mask):\n",
    "        # src shape: (batch_size, max_length)\n",
    "        # src_mask shape: (batch_size, max_length)\n",
    "        embedded = self.embedding(src)  # shape: (batch_size, max_length, embed_size)\n",
    "        encoded = self.transformer_encoder(embedded.transpose(0, 1), src_key_padding_mask=src_mask).transpose(0, 1)  # shape: (batch_size, max_length, embed_size)\n",
    "        output = self.linear(encoded)  # shape: (batch_size, max_length, num_classes)\n",
    "        return output"
   ],
   "metadata": {
    "execution": {
     "iopub.status.busy": "2022-02-17T08:25:02.468580Z",
     "iopub.execute_input": "2022-02-17T08:25:02.468821Z",
     "iopub.status.idle": "2022-02-17T08:25:02.478006Z",
     "shell.execute_reply.started": "2022-02-17T08:25:02.468786Z",
     "shell.execute_reply": "2022-02-17T08:25:02.477246Z"
    },
    "trusted": true,
    "id": "Jvy2pBQL5LSo"
   },
   "execution_count": 11,
   "outputs": []
  },
  {
   "cell_type": "code",
   "execution_count": 19,
   "outputs": [],
   "source": [
    "# def init_weights(module):\n",
    "#     if isinstance(module, (nn.Linear, nn.Embedding)):\n",
    "#         nn.init.xavier_uniform_(module.weight)"
   ],
   "metadata": {
    "collapsed": false
   }
  },
  {
   "cell_type": "code",
   "execution_count": 51,
   "outputs": [],
   "source": [
    "def init_weights(module):\n",
    "    if isinstance(module, (nn.Linear, nn.Embedding)):\n",
    "        nn.init.kaiming_uniform_(module.weight, nonlinearity='relu')"
   ],
   "metadata": {
    "collapsed": false
   }
  },
  {
   "cell_type": "code",
   "source": [
    "def validate(\n",
    "    model: nn.Module, \n",
    "    dataloader: DataLoader, \n",
    "    device: torch.device,\n",
    "):\n",
    "    acc_metric = torchmetrics.Accuracy(task = 'multiclass', num_classes = 10, compute_on_step=False).to(device)\n",
    "    loss_metric = torchmetrics.MeanMetric(compute_on_step=False).to(device)\n",
    "    model.eval()\n",
    "    \n",
    "    with torch.no_grad():\n",
    "        for batch in tqdm(dataloader):\n",
    "            input_ids, input_mask, tags = batch[0].to(device), batch[1].to(device), batch[2].to(device)\n",
    "            # output shape: (batch_size, max_length, num_classes)\n",
    "            logits = model(input_ids, input_mask)\n",
    "            # ignore padding index 0 when calculating loss\n",
    "            loss = F.cross_entropy(logits.reshape(-1, 10), tags.reshape(-1), ignore_index=0)\n",
    "                \n",
    "            loss_metric.update(loss, input_mask.numel() - input_mask.sum())\n",
    "            is_active = torch.logical_not(input_mask)  # non-padding elements\n",
    "            # only consider non-padded tokens when calculating accuracy\n",
    "            acc_metric.update(logits[is_active], tags[is_active])\n",
    "\n",
    "    print(f\"| Epoch {epoch+1} | Validate | loss {loss_metric.compute():.6f} | acc {acc_metric.compute():.6f} |!!!!!!!!!!!!!!!!!!!!!!!!!\")\n",
    "\n",
    "    return loss_metric.compute()\n"
   ],
   "metadata": {
    "execution": {
     "iopub.status.busy": "2022-02-17T08:25:03.082423Z",
     "iopub.execute_input": "2022-02-17T08:25:03.082694Z",
     "iopub.status.idle": "2022-02-17T08:25:03.091306Z",
     "shell.execute_reply.started": "2022-02-17T08:25:03.082660Z",
     "shell.execute_reply": "2022-02-17T08:25:03.090373Z"
    },
    "trusted": true,
    "id": "Y5Eaibzu5LSp"
   },
   "execution_count": 40,
   "outputs": []
  },
  {
   "cell_type": "code",
   "source": [
    "#modify as required\n",
    "def train(\n",
    "    model: nn.Module, \n",
    "    dataloader: DataLoader, \n",
    "    optimizer: optim.Optimizer,\n",
    "    device: torch.device,\n",
    "    epoch: int,\n",
    "):\n",
    "    acc_metric = torchmetrics.Accuracy(task = 'multiclass', num_classes = 10, compute_on_step=False).to(device)\n",
    "    loss_metric = torchmetrics.MeanMetric(compute_on_step=False).to(device)\n",
    "    model.train()\n",
    "\n",
    "\n",
    "    # loop through all batches in the training\n",
    "    for batch in tqdm(dataloader):\n",
    "        input_ids, input_mask, tags = batch[0].to(device), batch[1].to(device), batch[2].to(device)\n",
    "        optimizer.zero_grad()\n",
    "        # output shape: (batch_size, max_length, num_classes)\n",
    "        logits = model(input_ids, input_mask)\n",
    "        # ignore padding index 0 when calculating loss\n",
    "        loss = F.cross_entropy(logits.reshape(-1, 10), tags.reshape(-1), ignore_index=0)\n",
    "        \n",
    "        loss.backward()\n",
    "        optimizer.step()\n",
    "        \n",
    "        loss_metric.update(loss, input_mask.numel() - input_mask.sum())\n",
    "        is_active = torch.logical_not(input_mask)  # non-padding elements\n",
    "        # only consider non-padded tokens when calculating accuracy\n",
    "        acc_metric.update(logits[is_active], tags[is_active])\n",
    "    \n",
    "    print(f\"| Epoch {epoch+1} | Train | loss {loss_metric.compute():.6f} | acc {acc_metric.compute():.6f} |\")\n"
   ],
   "metadata": {
    "execution": {
     "iopub.status.busy": "2022-02-17T08:25:03.092754Z",
     "iopub.execute_input": "2022-02-17T08:25:03.093232Z",
     "iopub.status.idle": "2022-02-17T08:25:03.104319Z",
     "shell.execute_reply.started": "2022-02-17T08:25:03.093195Z",
     "shell.execute_reply": "2022-02-17T08:25:03.103543Z"
    },
    "trusted": true,
    "id": "qQtTOXRA5LSp"
   },
   "execution_count": 41,
   "outputs": []
  },
  {
   "cell_type": "code",
   "execution_count": 14,
   "outputs": [],
   "source": [
    "def predict(model: nn.Module, dataloader: DataLoader, device: torch.device) -> List[List[str]]:\n",
    "    model.eval()\n",
    "    preds = []\n",
    "\n",
    "    idx2tag = ['<pad>', 'O', 'B-PER', 'I-PER', 'B-ORG', 'I-ORG', 'B-LOC', 'I-LOC', 'B-MISC', 'I-MISC']\n",
    "\n",
    "    with torch.no_grad():\n",
    "        for batch in tqdm(dataloader):\n",
    "            input_ids, src_mask = batch[0].to(device), batch[1].to(device)\n",
    "            logits = model(input_ids, src_mask=src_mask)\n",
    "            batch_preds = logits.argmax(dim=-1).tolist()\n",
    "            for i, tags in enumerate(batch_preds):\n",
    "                # Get the true length of the unpadded sequence using the input mask\n",
    "                seq_len = 128 - src_mask[i].sum().item()  # .item() converts a one-element tensor to a scalar\n",
    "                # print(src_mask[i])\n",
    "                # print(seq_len)\n",
    "                # Convert the predicted tag indices to tag labels\n",
    "                tag_preds = [idx2tag[idx] for idx in tags[:seq_len]]  # Slice the predicted tags to seq_len\n",
    "                # print(tag_preds)\n",
    "                # Append the tag predictions to the list of predictions\n",
    "                preds.append(tag_preds)\n",
    "\n",
    "    return preds"
   ],
   "metadata": {
    "collapsed": false
   }
  },
  {
   "cell_type": "code",
   "execution_count": 49,
   "outputs": [],
   "source": [
    "import optuna\n",
    "def objective(trial: optuna.Trial):\n",
    "    # Suggest hyperparameters\n",
    "    embed_size =  trial.suggest_categorical(\"embed_size\", [128, 256, 512])\n",
    "    num_heads = trial.suggest_categorical(\"num_heads\", [2, 4, 8])\n",
    "    hidden_size = trial.suggest_categorical(\"hidden_size\", [128, 256, 512])\n",
    "    num_layers = trial.suggest_int(\"num_layers\", 1, 4)\n",
    "    lr = trial.suggest_float(\"lr\", 5e-5, 1e-3)\n",
    "\n",
    "    # Create the model with the suggested hyperparameters\n",
    "    model = TransformerModel(vocab_size=len(tokenizer),\n",
    "                             embed_size=embed_size,\n",
    "                             num_heads=num_heads,\n",
    "                             hidden_size=hidden_size,\n",
    "                             num_layers=num_layers).to(device)\n",
    "\n",
    "    optimizer = optim.Adam(model.parameters(), lr=lr)\n",
    "    model.apply(init_weights)\n",
    "\n",
    "    best_val_loss = float('inf')\n",
    "    best_epoch = 0\n",
    "    best_model_state = None\n",
    "\n",
    "    for epoch in range(max_epochs):\n",
    "        train(model, train_dataloader, optimizer, device, epoch)\n",
    "\n",
    "        val_loss = validate(model, val_dataloader, device)\n",
    "\n",
    "        if val_loss < best_val_loss:\n",
    "            best_val_loss = val_loss\n",
    "            best_epoch = epoch\n",
    "            best_model_state = model.state_dict()\n",
    "\n",
    "            print(f\"| Epoch {epoch+1} | New best validation loss: {best_val_loss:.4f} **********************\")\n",
    "        elif epoch - best_epoch >= patience:\n",
    "            print(f\"Early stopping triggered at epoch {epoch + 1}.\")\n",
    "            print(f\"Best epoch is: {best_epoch + 1}\")\n",
    "            break\n",
    "\n",
    "    # Restore the best model state\n",
    "    model.load_state_dict(best_model_state)\n",
    "\n",
    "    return best_val_loss"
   ],
   "metadata": {
    "collapsed": false
   }
  },
  {
   "cell_type": "code",
   "execution_count": 52,
   "outputs": [
    {
     "name": "stderr",
     "output_type": "stream",
     "text": [
      "\u001B[32m[I 2023-03-16 19:11:20,840]\u001B[0m A new study created in memory with name: no-name-0831b67d-f29b-4716-8eb6-ba12d537c003\u001B[0m\n"
     ]
    },
    {
     "name": "stdout",
     "output_type": "stream",
     "text": [
      "cuda\n"
     ]
    },
    {
     "name": "stderr",
     "output_type": "stream",
     "text": [
      "100%|██████████| 439/439 [00:08<00:00, 54.21it/s]\n"
     ]
    },
    {
     "name": "stdout",
     "output_type": "stream",
     "text": [
      "| Epoch 1 | Train | loss 0.405201 | acc 0.892791 |\n"
     ]
    },
    {
     "name": "stderr",
     "output_type": "stream",
     "text": [
      "100%|██████████| 102/102 [00:00<00:00, 164.84it/s]\n"
     ]
    },
    {
     "name": "stdout",
     "output_type": "stream",
     "text": [
      "| Epoch 4 | Validate | loss 0.276741 | acc 0.923426 |!!!!!!!!!!!!!!!!!!!!!!!!!\n",
      "| Epoch 1 | New best validation loss: 0.2767 **********************\n"
     ]
    },
    {
     "name": "stderr",
     "output_type": "stream",
     "text": [
      "100%|██████████| 439/439 [00:07<00:00, 56.11it/s]\n"
     ]
    },
    {
     "name": "stdout",
     "output_type": "stream",
     "text": [
      "| Epoch 2 | Train | loss 0.147424 | acc 0.954681 |\n"
     ]
    },
    {
     "name": "stderr",
     "output_type": "stream",
     "text": [
      "100%|██████████| 102/102 [00:00<00:00, 173.94it/s]\n"
     ]
    },
    {
     "name": "stdout",
     "output_type": "stream",
     "text": [
      "| Epoch 4 | Validate | loss 0.248736 | acc 0.929812 |!!!!!!!!!!!!!!!!!!!!!!!!!\n",
      "| Epoch 2 | New best validation loss: 0.2487 **********************\n"
     ]
    },
    {
     "name": "stderr",
     "output_type": "stream",
     "text": [
      "100%|██████████| 439/439 [00:07<00:00, 56.11it/s]\n"
     ]
    },
    {
     "name": "stdout",
     "output_type": "stream",
     "text": [
      "| Epoch 3 | Train | loss 0.088816 | acc 0.971113 |\n"
     ]
    },
    {
     "name": "stderr",
     "output_type": "stream",
     "text": [
      "100%|██████████| 102/102 [00:00<00:00, 168.05it/s]\n"
     ]
    },
    {
     "name": "stdout",
     "output_type": "stream",
     "text": [
      "| Epoch 4 | Validate | loss 0.281189 | acc 0.931739 |!!!!!!!!!!!!!!!!!!!!!!!!!\n"
     ]
    },
    {
     "name": "stderr",
     "output_type": "stream",
     "text": [
      "100%|██████████| 439/439 [00:07<00:00, 56.23it/s]\n"
     ]
    },
    {
     "name": "stdout",
     "output_type": "stream",
     "text": [
      "| Epoch 4 | Train | loss 0.062173 | acc 0.979015 |\n"
     ]
    },
    {
     "name": "stderr",
     "output_type": "stream",
     "text": [
      "100%|██████████| 102/102 [00:00<00:00, 173.39it/s]\n",
      "\u001B[32m[I 2023-03-16 19:11:54,951]\u001B[0m Trial 0 finished with value: 0.2487362027168274 and parameters: {'embed_size': 512, 'num_heads': 8, 'hidden_size': 256, 'num_layers': 1, 'lr': 0.00037026589736658544}. Best is trial 0 with value: 0.2487362027168274.\u001B[0m\n"
     ]
    },
    {
     "name": "stdout",
     "output_type": "stream",
     "text": [
      "| Epoch 4 | Validate | loss 0.285631 | acc 0.933044 |!!!!!!!!!!!!!!!!!!!!!!!!!\n",
      "Early stopping triggered at epoch 4.\n",
      "Best epoch is: 2\n"
     ]
    },
    {
     "name": "stderr",
     "output_type": "stream",
     "text": [
      "100%|██████████| 439/439 [00:17<00:00, 25.08it/s]\n"
     ]
    },
    {
     "name": "stdout",
     "output_type": "stream",
     "text": [
      "| Epoch 1 | Train | loss 0.441116 | acc 0.884423 |\n"
     ]
    },
    {
     "name": "stderr",
     "output_type": "stream",
     "text": [
      "100%|██████████| 102/102 [00:01<00:00, 79.39it/s]\n"
     ]
    },
    {
     "name": "stdout",
     "output_type": "stream",
     "text": [
      "| Epoch 4 | Validate | loss 0.286088 | acc 0.919999 |!!!!!!!!!!!!!!!!!!!!!!!!!\n",
      "| Epoch 1 | New best validation loss: 0.2861 **********************\n"
     ]
    },
    {
     "name": "stderr",
     "output_type": "stream",
     "text": [
      "100%|██████████| 439/439 [00:17<00:00, 25.09it/s]\n"
     ]
    },
    {
     "name": "stdout",
     "output_type": "stream",
     "text": [
      "| Epoch 2 | Train | loss 0.160341 | acc 0.951935 |\n"
     ]
    },
    {
     "name": "stderr",
     "output_type": "stream",
     "text": [
      "100%|██████████| 102/102 [00:01<00:00, 78.89it/s]\n"
     ]
    },
    {
     "name": "stdout",
     "output_type": "stream",
     "text": [
      "| Epoch 4 | Validate | loss 0.277040 | acc 0.928371 |!!!!!!!!!!!!!!!!!!!!!!!!!\n",
      "| Epoch 2 | New best validation loss: 0.2770 **********************\n"
     ]
    },
    {
     "name": "stderr",
     "output_type": "stream",
     "text": [
      "100%|██████████| 439/439 [00:17<00:00, 25.05it/s]\n"
     ]
    },
    {
     "name": "stdout",
     "output_type": "stream",
     "text": [
      "| Epoch 3 | Train | loss 0.098936 | acc 0.968888 |\n"
     ]
    },
    {
     "name": "stderr",
     "output_type": "stream",
     "text": [
      "100%|██████████| 102/102 [00:01<00:00, 78.42it/s]\n"
     ]
    },
    {
     "name": "stdout",
     "output_type": "stream",
     "text": [
      "| Epoch 4 | Validate | loss 0.243654 | acc 0.933998 |!!!!!!!!!!!!!!!!!!!!!!!!!\n",
      "| Epoch 3 | New best validation loss: 0.2437 **********************\n"
     ]
    },
    {
     "name": "stderr",
     "output_type": "stream",
     "text": [
      "100%|██████████| 439/439 [00:17<00:00, 25.06it/s]\n"
     ]
    },
    {
     "name": "stdout",
     "output_type": "stream",
     "text": [
      "| Epoch 4 | Train | loss 0.077351 | acc 0.975042 |\n"
     ]
    },
    {
     "name": "stderr",
     "output_type": "stream",
     "text": [
      "100%|██████████| 102/102 [00:01<00:00, 79.34it/s]\n"
     ]
    },
    {
     "name": "stdout",
     "output_type": "stream",
     "text": [
      "| Epoch 4 | Validate | loss 0.277478 | acc 0.922686 |!!!!!!!!!!!!!!!!!!!!!!!!!\n"
     ]
    },
    {
     "name": "stderr",
     "output_type": "stream",
     "text": [
      "100%|██████████| 439/439 [00:17<00:00, 25.01it/s]\n"
     ]
    },
    {
     "name": "stdout",
     "output_type": "stream",
     "text": [
      "| Epoch 5 | Train | loss 0.066937 | acc 0.977895 |\n"
     ]
    },
    {
     "name": "stderr",
     "output_type": "stream",
     "text": [
      "100%|██████████| 102/102 [00:01<00:00, 78.53it/s]\n",
      "\u001B[32m[I 2023-03-16 19:13:29,150]\u001B[0m Trial 1 finished with value: 0.24365386366844177 and parameters: {'embed_size': 512, 'num_heads': 8, 'hidden_size': 256, 'num_layers': 3, 'lr': 0.0005261295936382586}. Best is trial 1 with value: 0.24365386366844177.\u001B[0m\n"
     ]
    },
    {
     "name": "stdout",
     "output_type": "stream",
     "text": [
      "| Epoch 4 | Validate | loss 0.280556 | acc 0.935341 |!!!!!!!!!!!!!!!!!!!!!!!!!\n",
      "Early stopping triggered at epoch 5.\n",
      "Best epoch is: 3\n"
     ]
    },
    {
     "name": "stderr",
     "output_type": "stream",
     "text": [
      "100%|██████████| 439/439 [00:16<00:00, 26.14it/s]\n"
     ]
    },
    {
     "name": "stdout",
     "output_type": "stream",
     "text": [
      "| Epoch 1 | Train | loss 0.463855 | acc 0.879865 |\n"
     ]
    },
    {
     "name": "stderr",
     "output_type": "stream",
     "text": [
      "100%|██████████| 102/102 [00:01<00:00, 80.76it/s]\n"
     ]
    },
    {
     "name": "stdout",
     "output_type": "stream",
     "text": [
      "| Epoch 4 | Validate | loss 0.313115 | acc 0.914957 |!!!!!!!!!!!!!!!!!!!!!!!!!\n",
      "| Epoch 1 | New best validation loss: 0.3131 **********************\n"
     ]
    },
    {
     "name": "stderr",
     "output_type": "stream",
     "text": [
      "100%|██████████| 439/439 [00:16<00:00, 26.12it/s]\n"
     ]
    },
    {
     "name": "stdout",
     "output_type": "stream",
     "text": [
      "| Epoch 2 | Train | loss 0.170514 | acc 0.948939 |\n"
     ]
    },
    {
     "name": "stderr",
     "output_type": "stream",
     "text": [
      "100%|██████████| 102/102 [00:01<00:00, 81.96it/s]\n"
     ]
    },
    {
     "name": "stdout",
     "output_type": "stream",
     "text": [
      "| Epoch 4 | Validate | loss 0.256677 | acc 0.931214 |!!!!!!!!!!!!!!!!!!!!!!!!!\n",
      "| Epoch 2 | New best validation loss: 0.2567 **********************\n"
     ]
    },
    {
     "name": "stderr",
     "output_type": "stream",
     "text": [
      "100%|██████████| 439/439 [00:16<00:00, 26.11it/s]\n"
     ]
    },
    {
     "name": "stdout",
     "output_type": "stream",
     "text": [
      "| Epoch 3 | Train | loss 0.099998 | acc 0.968451 |\n"
     ]
    },
    {
     "name": "stderr",
     "output_type": "stream",
     "text": [
      "100%|██████████| 102/102 [00:01<00:00, 81.54it/s]\n"
     ]
    },
    {
     "name": "stdout",
     "output_type": "stream",
     "text": [
      "| Epoch 4 | Validate | loss 0.261949 | acc 0.932421 |!!!!!!!!!!!!!!!!!!!!!!!!!\n"
     ]
    },
    {
     "name": "stderr",
     "output_type": "stream",
     "text": [
      "100%|██████████| 439/439 [00:16<00:00, 26.14it/s]\n"
     ]
    },
    {
     "name": "stdout",
     "output_type": "stream",
     "text": [
      "| Epoch 4 | Train | loss 0.072831 | acc 0.976142 |\n"
     ]
    },
    {
     "name": "stderr",
     "output_type": "stream",
     "text": [
      "100%|██████████| 102/102 [00:01<00:00, 82.35it/s]\n",
      "\u001B[32m[I 2023-03-16 19:14:41,466]\u001B[0m Trial 2 finished with value: 0.2566770315170288 and parameters: {'embed_size': 512, 'num_heads': 4, 'hidden_size': 256, 'num_layers': 3, 'lr': 0.000403989068373604}. Best is trial 1 with value: 0.24365386366844177.\u001B[0m\n"
     ]
    },
    {
     "name": "stdout",
     "output_type": "stream",
     "text": [
      "| Epoch 4 | Validate | loss 0.263608 | acc 0.932538 |!!!!!!!!!!!!!!!!!!!!!!!!!\n",
      "Early stopping triggered at epoch 4.\n",
      "Best epoch is: 2\n"
     ]
    },
    {
     "name": "stderr",
     "output_type": "stream",
     "text": [
      "100%|██████████| 439/439 [00:13<00:00, 33.20it/s]\n"
     ]
    },
    {
     "name": "stdout",
     "output_type": "stream",
     "text": [
      "| Epoch 1 | Train | loss 0.428975 | acc 0.887664 |\n"
     ]
    },
    {
     "name": "stderr",
     "output_type": "stream",
     "text": [
      "100%|██████████| 102/102 [00:00<00:00, 103.77it/s]\n"
     ]
    },
    {
     "name": "stdout",
     "output_type": "stream",
     "text": [
      "| Epoch 4 | Validate | loss 0.304686 | acc 0.920389 |!!!!!!!!!!!!!!!!!!!!!!!!!\n",
      "| Epoch 1 | New best validation loss: 0.3047 **********************\n"
     ]
    },
    {
     "name": "stderr",
     "output_type": "stream",
     "text": [
      "100%|██████████| 439/439 [00:13<00:00, 33.16it/s]\n"
     ]
    },
    {
     "name": "stdout",
     "output_type": "stream",
     "text": [
      "| Epoch 2 | Train | loss 0.159831 | acc 0.951366 |\n"
     ]
    },
    {
     "name": "stderr",
     "output_type": "stream",
     "text": [
      "100%|██████████| 102/102 [00:00<00:00, 103.24it/s]\n"
     ]
    },
    {
     "name": "stdout",
     "output_type": "stream",
     "text": [
      "| Epoch 4 | Validate | loss 0.239361 | acc 0.931915 |!!!!!!!!!!!!!!!!!!!!!!!!!\n",
      "| Epoch 2 | New best validation loss: 0.2394 **********************\n"
     ]
    },
    {
     "name": "stderr",
     "output_type": "stream",
     "text": [
      "100%|██████████| 439/439 [00:13<00:00, 33.14it/s]\n"
     ]
    },
    {
     "name": "stdout",
     "output_type": "stream",
     "text": [
      "| Epoch 3 | Train | loss 0.089702 | acc 0.970759 |\n"
     ]
    },
    {
     "name": "stderr",
     "output_type": "stream",
     "text": [
      "100%|██████████| 102/102 [00:01<00:00, 101.47it/s]\n"
     ]
    },
    {
     "name": "stdout",
     "output_type": "stream",
     "text": [
      "| Epoch 4 | Validate | loss 0.287547 | acc 0.933102 |!!!!!!!!!!!!!!!!!!!!!!!!!\n"
     ]
    },
    {
     "name": "stderr",
     "output_type": "stream",
     "text": [
      "100%|██████████| 439/439 [00:13<00:00, 33.21it/s]\n"
     ]
    },
    {
     "name": "stdout",
     "output_type": "stream",
     "text": [
      "| Epoch 4 | Train | loss 0.058586 | acc 0.980591 |\n"
     ]
    },
    {
     "name": "stderr",
     "output_type": "stream",
     "text": [
      "100%|██████████| 102/102 [00:00<00:00, 103.06it/s]\n",
      "\u001B[32m[I 2023-03-16 19:15:38,507]\u001B[0m Trial 3 finished with value: 0.23936066031455994 and parameters: {'embed_size': 512, 'num_heads': 4, 'hidden_size': 512, 'num_layers': 2, 'lr': 0.0003273473628481439}. Best is trial 3 with value: 0.23936066031455994.\u001B[0m\n"
     ]
    },
    {
     "name": "stdout",
     "output_type": "stream",
     "text": [
      "| Epoch 4 | Validate | loss 0.278165 | acc 0.935906 |!!!!!!!!!!!!!!!!!!!!!!!!!\n",
      "Early stopping triggered at epoch 4.\n",
      "Best epoch is: 2\n"
     ]
    },
    {
     "name": "stderr",
     "output_type": "stream",
     "text": [
      "100%|██████████| 439/439 [00:07<00:00, 58.42it/s]\n"
     ]
    },
    {
     "name": "stdout",
     "output_type": "stream",
     "text": [
      "| Epoch 1 | Train | loss 0.369144 | acc 0.902540 |\n"
     ]
    },
    {
     "name": "stderr",
     "output_type": "stream",
     "text": [
      "100%|██████████| 102/102 [00:00<00:00, 174.38it/s]\n"
     ]
    },
    {
     "name": "stdout",
     "output_type": "stream",
     "text": [
      "| Epoch 4 | Validate | loss 0.265682 | acc 0.925821 |!!!!!!!!!!!!!!!!!!!!!!!!!\n",
      "| Epoch 1 | New best validation loss: 0.2657 **********************\n"
     ]
    },
    {
     "name": "stderr",
     "output_type": "stream",
     "text": [
      "100%|██████████| 439/439 [00:07<00:00, 58.84it/s]\n"
     ]
    },
    {
     "name": "stdout",
     "output_type": "stream",
     "text": [
      "| Epoch 2 | Train | loss 0.128628 | acc 0.960259 |\n"
     ]
    },
    {
     "name": "stderr",
     "output_type": "stream",
     "text": [
      "100%|██████████| 102/102 [00:00<00:00, 173.64it/s]\n"
     ]
    },
    {
     "name": "stdout",
     "output_type": "stream",
     "text": [
      "| Epoch 4 | Validate | loss 0.261007 | acc 0.929578 |!!!!!!!!!!!!!!!!!!!!!!!!!\n",
      "| Epoch 2 | New best validation loss: 0.2610 **********************\n"
     ]
    },
    {
     "name": "stderr",
     "output_type": "stream",
     "text": [
      "100%|██████████| 439/439 [00:07<00:00, 58.68it/s]\n"
     ]
    },
    {
     "name": "stdout",
     "output_type": "stream",
     "text": [
      "| Epoch 3 | Train | loss 0.079193 | acc 0.973952 |\n"
     ]
    },
    {
     "name": "stderr",
     "output_type": "stream",
     "text": [
      "100%|██████████| 102/102 [00:00<00:00, 179.49it/s]\n"
     ]
    },
    {
     "name": "stdout",
     "output_type": "stream",
     "text": [
      "| Epoch 4 | Validate | loss 0.261376 | acc 0.931856 |!!!!!!!!!!!!!!!!!!!!!!!!!\n"
     ]
    },
    {
     "name": "stderr",
     "output_type": "stream",
     "text": [
      "100%|██████████| 439/439 [00:07<00:00, 58.54it/s]\n"
     ]
    },
    {
     "name": "stdout",
     "output_type": "stream",
     "text": [
      "| Epoch 4 | Train | loss 0.058693 | acc 0.980086 |\n"
     ]
    },
    {
     "name": "stderr",
     "output_type": "stream",
     "text": [
      "100%|██████████| 102/102 [00:00<00:00, 177.51it/s]\n",
      "\u001B[32m[I 2023-03-16 19:16:10,888]\u001B[0m Trial 4 finished with value: 0.2610066533088684 and parameters: {'embed_size': 512, 'num_heads': 2, 'hidden_size': 256, 'num_layers': 1, 'lr': 0.0005888811820103137}. Best is trial 3 with value: 0.23936066031455994.\u001B[0m\n"
     ]
    },
    {
     "name": "stdout",
     "output_type": "stream",
     "text": [
      "| Epoch 4 | Validate | loss 0.291175 | acc 0.932479 |!!!!!!!!!!!!!!!!!!!!!!!!!\n",
      "Early stopping triggered at epoch 4.\n",
      "Best epoch is: 2\n"
     ]
    },
    {
     "name": "stderr",
     "output_type": "stream",
     "text": [
      "100%|██████████| 439/439 [00:03<00:00, 128.04it/s]\n"
     ]
    },
    {
     "name": "stdout",
     "output_type": "stream",
     "text": [
      "| Epoch 1 | Train | loss 0.446503 | acc 0.883131 |\n"
     ]
    },
    {
     "name": "stderr",
     "output_type": "stream",
     "text": [
      "100%|██████████| 102/102 [00:00<00:00, 291.10it/s]\n"
     ]
    },
    {
     "name": "stdout",
     "output_type": "stream",
     "text": [
      "| Epoch 4 | Validate | loss 0.296590 | acc 0.916845 |!!!!!!!!!!!!!!!!!!!!!!!!!\n",
      "| Epoch 1 | New best validation loss: 0.2966 **********************\n"
     ]
    },
    {
     "name": "stderr",
     "output_type": "stream",
     "text": [
      "100%|██████████| 439/439 [00:03<00:00, 130.86it/s]\n"
     ]
    },
    {
     "name": "stdout",
     "output_type": "stream",
     "text": [
      "| Epoch 2 | Train | loss 0.179916 | acc 0.945300 |\n"
     ]
    },
    {
     "name": "stderr",
     "output_type": "stream",
     "text": [
      "100%|██████████| 102/102 [00:00<00:00, 312.30it/s]\n"
     ]
    },
    {
     "name": "stdout",
     "output_type": "stream",
     "text": [
      "| Epoch 4 | Validate | loss 0.285762 | acc 0.906974 |!!!!!!!!!!!!!!!!!!!!!!!!!\n",
      "| Epoch 2 | New best validation loss: 0.2858 **********************\n"
     ]
    },
    {
     "name": "stderr",
     "output_type": "stream",
     "text": [
      "100%|██████████| 439/439 [00:03<00:00, 131.72it/s]\n"
     ]
    },
    {
     "name": "stdout",
     "output_type": "stream",
     "text": [
      "| Epoch 3 | Train | loss 0.109030 | acc 0.965249 |\n"
     ]
    },
    {
     "name": "stderr",
     "output_type": "stream",
     "text": [
      "100%|██████████| 102/102 [00:00<00:00, 314.39it/s]\n"
     ]
    },
    {
     "name": "stdout",
     "output_type": "stream",
     "text": [
      "| Epoch 4 | Validate | loss 0.246892 | acc 0.931019 |!!!!!!!!!!!!!!!!!!!!!!!!!\n",
      "| Epoch 3 | New best validation loss: 0.2469 **********************\n"
     ]
    },
    {
     "name": "stderr",
     "output_type": "stream",
     "text": [
      "100%|██████████| 439/439 [00:03<00:00, 136.28it/s]\n"
     ]
    },
    {
     "name": "stdout",
     "output_type": "stream",
     "text": [
      "| Epoch 4 | Train | loss 0.077816 | acc 0.973863 |\n"
     ]
    },
    {
     "name": "stderr",
     "output_type": "stream",
     "text": [
      "100%|██████████| 102/102 [00:00<00:00, 296.68it/s]\n"
     ]
    },
    {
     "name": "stdout",
     "output_type": "stream",
     "text": [
      "| Epoch 4 | Validate | loss 0.259603 | acc 0.932888 |!!!!!!!!!!!!!!!!!!!!!!!!!\n"
     ]
    },
    {
     "name": "stderr",
     "output_type": "stream",
     "text": [
      "100%|██████████| 439/439 [00:03<00:00, 134.26it/s]\n"
     ]
    },
    {
     "name": "stdout",
     "output_type": "stream",
     "text": [
      "| Epoch 5 | Train | loss 0.060437 | acc 0.979511 |\n"
     ]
    },
    {
     "name": "stderr",
     "output_type": "stream",
     "text": [
      "100%|██████████| 102/102 [00:00<00:00, 310.93it/s]\n",
      "\u001B[32m[I 2023-03-16 19:16:29,262]\u001B[0m Trial 5 finished with value: 0.24689213931560516 and parameters: {'embed_size': 128, 'num_heads': 2, 'hidden_size': 512, 'num_layers': 1, 'lr': 0.0009758469494084238}. Best is trial 3 with value: 0.23936066031455994.\u001B[0m\n"
     ]
    },
    {
     "name": "stdout",
     "output_type": "stream",
     "text": [
      "| Epoch 4 | Validate | loss 0.306066 | acc 0.933394 |!!!!!!!!!!!!!!!!!!!!!!!!!\n",
      "Early stopping triggered at epoch 5.\n",
      "Best epoch is: 3\n"
     ]
    },
    {
     "name": "stderr",
     "output_type": "stream",
     "text": [
      "100%|██████████| 439/439 [00:07<00:00, 58.68it/s]\n"
     ]
    },
    {
     "name": "stdout",
     "output_type": "stream",
     "text": [
      "| Epoch 1 | Train | loss 0.355993 | acc 0.905265 |\n"
     ]
    },
    {
     "name": "stderr",
     "output_type": "stream",
     "text": [
      "100%|██████████| 102/102 [00:00<00:00, 173.02it/s]\n"
     ]
    },
    {
     "name": "stdout",
     "output_type": "stream",
     "text": [
      "| Epoch 4 | Validate | loss 0.292061 | acc 0.924575 |!!!!!!!!!!!!!!!!!!!!!!!!!\n",
      "| Epoch 1 | New best validation loss: 0.2921 **********************\n"
     ]
    },
    {
     "name": "stderr",
     "output_type": "stream",
     "text": [
      "100%|██████████| 439/439 [00:07<00:00, 58.53it/s]\n"
     ]
    },
    {
     "name": "stdout",
     "output_type": "stream",
     "text": [
      "| Epoch 2 | Train | loss 0.125433 | acc 0.960972 |\n"
     ]
    },
    {
     "name": "stderr",
     "output_type": "stream",
     "text": [
      "100%|██████████| 102/102 [00:00<00:00, 173.42it/s]\n"
     ]
    },
    {
     "name": "stdout",
     "output_type": "stream",
     "text": [
      "| Epoch 4 | Validate | loss 0.269463 | acc 0.932129 |!!!!!!!!!!!!!!!!!!!!!!!!!\n",
      "| Epoch 2 | New best validation loss: 0.2695 **********************\n"
     ]
    },
    {
     "name": "stderr",
     "output_type": "stream",
     "text": [
      "100%|██████████| 439/439 [00:07<00:00, 58.48it/s]\n"
     ]
    },
    {
     "name": "stdout",
     "output_type": "stream",
     "text": [
      "| Epoch 3 | Train | loss 0.076988 | acc 0.974487 |\n"
     ]
    },
    {
     "name": "stderr",
     "output_type": "stream",
     "text": [
      "100%|██████████| 102/102 [00:00<00:00, 176.43it/s]\n"
     ]
    },
    {
     "name": "stdout",
     "output_type": "stream",
     "text": [
      "| Epoch 4 | Validate | loss 0.295671 | acc 0.931467 |!!!!!!!!!!!!!!!!!!!!!!!!!\n"
     ]
    },
    {
     "name": "stderr",
     "output_type": "stream",
     "text": [
      "100%|██████████| 439/439 [00:07<00:00, 58.64it/s]\n"
     ]
    },
    {
     "name": "stdout",
     "output_type": "stream",
     "text": [
      "| Epoch 4 | Train | loss 0.058233 | acc 0.980027 |\n"
     ]
    },
    {
     "name": "stderr",
     "output_type": "stream",
     "text": [
      "100%|██████████| 102/102 [00:00<00:00, 177.32it/s]\n",
      "\u001B[32m[I 2023-03-16 19:17:01,663]\u001B[0m Trial 6 finished with value: 0.26946279406547546 and parameters: {'embed_size': 512, 'num_heads': 8, 'hidden_size': 128, 'num_layers': 1, 'lr': 0.0006516890873542069}. Best is trial 3 with value: 0.23936066031455994.\u001B[0m\n"
     ]
    },
    {
     "name": "stdout",
     "output_type": "stream",
     "text": [
      "| Epoch 4 | Validate | loss 0.316686 | acc 0.933258 |!!!!!!!!!!!!!!!!!!!!!!!!!\n",
      "Early stopping triggered at epoch 4.\n",
      "Best epoch is: 2\n"
     ]
    },
    {
     "name": "stderr",
     "output_type": "stream",
     "text": [
      "100%|██████████| 439/439 [00:04<00:00, 96.74it/s]\n"
     ]
    },
    {
     "name": "stdout",
     "output_type": "stream",
     "text": [
      "| Epoch 1 | Train | loss 0.379633 | acc 0.899308 |\n"
     ]
    },
    {
     "name": "stderr",
     "output_type": "stream",
     "text": [
      "100%|██████████| 102/102 [00:00<00:00, 249.60it/s]\n"
     ]
    },
    {
     "name": "stdout",
     "output_type": "stream",
     "text": [
      "| Epoch 4 | Validate | loss 0.265917 | acc 0.922998 |!!!!!!!!!!!!!!!!!!!!!!!!!\n",
      "| Epoch 1 | New best validation loss: 0.2659 **********************\n"
     ]
    },
    {
     "name": "stderr",
     "output_type": "stream",
     "text": [
      "100%|██████████| 439/439 [00:04<00:00, 97.48it/s]\n"
     ]
    },
    {
     "name": "stdout",
     "output_type": "stream",
     "text": [
      "| Epoch 2 | Train | loss 0.139868 | acc 0.957018 |\n"
     ]
    },
    {
     "name": "stderr",
     "output_type": "stream",
     "text": [
      "100%|██████████| 102/102 [00:00<00:00, 245.25it/s]\n"
     ]
    },
    {
     "name": "stdout",
     "output_type": "stream",
     "text": [
      "| Epoch 4 | Validate | loss 0.252986 | acc 0.928722 |!!!!!!!!!!!!!!!!!!!!!!!!!\n",
      "| Epoch 2 | New best validation loss: 0.2530 **********************\n"
     ]
    },
    {
     "name": "stderr",
     "output_type": "stream",
     "text": [
      "100%|██████████| 439/439 [00:04<00:00, 97.22it/s]\n"
     ]
    },
    {
     "name": "stdout",
     "output_type": "stream",
     "text": [
      "| Epoch 3 | Train | loss 0.085827 | acc 0.971634 |\n"
     ]
    },
    {
     "name": "stderr",
     "output_type": "stream",
     "text": [
      "100%|██████████| 102/102 [00:00<00:00, 249.29it/s]\n"
     ]
    },
    {
     "name": "stdout",
     "output_type": "stream",
     "text": [
      "| Epoch 4 | Validate | loss 0.247420 | acc 0.931895 |!!!!!!!!!!!!!!!!!!!!!!!!!\n",
      "| Epoch 3 | New best validation loss: 0.2474 **********************\n"
     ]
    },
    {
     "name": "stderr",
     "output_type": "stream",
     "text": [
      "100%|██████████| 439/439 [00:04<00:00, 96.87it/s]\n"
     ]
    },
    {
     "name": "stdout",
     "output_type": "stream",
     "text": [
      "| Epoch 4 | Train | loss 0.061854 | acc 0.978814 |\n"
     ]
    },
    {
     "name": "stderr",
     "output_type": "stream",
     "text": [
      "100%|██████████| 102/102 [00:00<00:00, 249.87it/s]\n"
     ]
    },
    {
     "name": "stdout",
     "output_type": "stream",
     "text": [
      "| Epoch 4 | Validate | loss 0.280740 | acc 0.932732 |!!!!!!!!!!!!!!!!!!!!!!!!!\n"
     ]
    },
    {
     "name": "stderr",
     "output_type": "stream",
     "text": [
      "100%|██████████| 439/439 [00:04<00:00, 96.48it/s]\n"
     ]
    },
    {
     "name": "stdout",
     "output_type": "stream",
     "text": [
      "| Epoch 5 | Train | loss 0.048747 | acc 0.983312 |\n"
     ]
    },
    {
     "name": "stderr",
     "output_type": "stream",
     "text": [
      "100%|██████████| 102/102 [00:00<00:00, 251.09it/s]\n",
      "\u001B[32m[I 2023-03-16 19:17:26,428]\u001B[0m Trial 7 finished with value: 0.24741970002651215 and parameters: {'embed_size': 256, 'num_heads': 8, 'hidden_size': 256, 'num_layers': 1, 'lr': 0.0009357097310617897}. Best is trial 3 with value: 0.23936066031455994.\u001B[0m\n"
     ]
    },
    {
     "name": "stdout",
     "output_type": "stream",
     "text": [
      "| Epoch 4 | Validate | loss 0.309989 | acc 0.933492 |!!!!!!!!!!!!!!!!!!!!!!!!!\n",
      "Early stopping triggered at epoch 5.\n",
      "Best epoch is: 3\n"
     ]
    },
    {
     "name": "stderr",
     "output_type": "stream",
     "text": [
      "100%|██████████| 439/439 [00:05<00:00, 76.90it/s]\n"
     ]
    },
    {
     "name": "stdout",
     "output_type": "stream",
     "text": [
      "| Epoch 1 | Train | loss 0.612601 | acc 0.845448 |\n"
     ]
    },
    {
     "name": "stderr",
     "output_type": "stream",
     "text": [
      "100%|██████████| 102/102 [00:00<00:00, 201.03it/s]\n"
     ]
    },
    {
     "name": "stdout",
     "output_type": "stream",
     "text": [
      "| Epoch 4 | Validate | loss 0.430365 | acc 0.881118 |!!!!!!!!!!!!!!!!!!!!!!!!!\n",
      "| Epoch 1 | New best validation loss: 0.4304 **********************\n"
     ]
    },
    {
     "name": "stderr",
     "output_type": "stream",
     "text": [
      "100%|██████████| 439/439 [00:05<00:00, 76.28it/s]\n"
     ]
    },
    {
     "name": "stdout",
     "output_type": "stream",
     "text": [
      "| Epoch 2 | Train | loss 0.347666 | acc 0.897344 |\n"
     ]
    },
    {
     "name": "stderr",
     "output_type": "stream",
     "text": [
      "100%|██████████| 102/102 [00:00<00:00, 210.56it/s]\n"
     ]
    },
    {
     "name": "stdout",
     "output_type": "stream",
     "text": [
      "| Epoch 4 | Validate | loss 0.321597 | acc 0.909096 |!!!!!!!!!!!!!!!!!!!!!!!!!\n",
      "| Epoch 2 | New best validation loss: 0.3216 **********************\n"
     ]
    },
    {
     "name": "stderr",
     "output_type": "stream",
     "text": [
      "100%|██████████| 439/439 [00:05<00:00, 76.28it/s]\n"
     ]
    },
    {
     "name": "stdout",
     "output_type": "stream",
     "text": [
      "| Epoch 3 | Train | loss 0.237290 | acc 0.928082 |\n"
     ]
    },
    {
     "name": "stderr",
     "output_type": "stream",
     "text": [
      "100%|██████████| 102/102 [00:00<00:00, 210.32it/s]\n"
     ]
    },
    {
     "name": "stdout",
     "output_type": "stream",
     "text": [
      "| Epoch 4 | Validate | loss 0.275294 | acc 0.920291 |!!!!!!!!!!!!!!!!!!!!!!!!!\n",
      "| Epoch 3 | New best validation loss: 0.2753 **********************\n"
     ]
    },
    {
     "name": "stderr",
     "output_type": "stream",
     "text": [
      "100%|██████████| 439/439 [00:05<00:00, 76.43it/s]\n"
     ]
    },
    {
     "name": "stdout",
     "output_type": "stream",
     "text": [
      "| Epoch 4 | Train | loss 0.172629 | acc 0.947049 |\n"
     ]
    },
    {
     "name": "stderr",
     "output_type": "stream",
     "text": [
      "100%|██████████| 102/102 [00:00<00:00, 209.41it/s]\n"
     ]
    },
    {
     "name": "stdout",
     "output_type": "stream",
     "text": [
      "| Epoch 4 | Validate | loss 0.278273 | acc 0.925723 |!!!!!!!!!!!!!!!!!!!!!!!!!\n"
     ]
    },
    {
     "name": "stderr",
     "output_type": "stream",
     "text": [
      "100%|██████████| 439/439 [00:05<00:00, 76.35it/s]\n"
     ]
    },
    {
     "name": "stdout",
     "output_type": "stream",
     "text": [
      "| Epoch 5 | Train | loss 0.132711 | acc 0.958487 |\n"
     ]
    },
    {
     "name": "stderr",
     "output_type": "stream",
     "text": [
      "100%|██████████| 102/102 [00:00<00:00, 201.60it/s]\n"
     ]
    },
    {
     "name": "stdout",
     "output_type": "stream",
     "text": [
      "| Epoch 4 | Validate | loss 0.266066 | acc 0.930279 |!!!!!!!!!!!!!!!!!!!!!!!!!\n",
      "| Epoch 5 | New best validation loss: 0.2661 **********************\n"
     ]
    },
    {
     "name": "stderr",
     "output_type": "stream",
     "text": [
      "100%|██████████| 439/439 [00:05<00:00, 76.59it/s]\n"
     ]
    },
    {
     "name": "stdout",
     "output_type": "stream",
     "text": [
      "| Epoch 6 | Train | loss 0.106136 | acc 0.965819 |\n"
     ]
    },
    {
     "name": "stderr",
     "output_type": "stream",
     "text": [
      "100%|██████████| 102/102 [00:00<00:00, 202.89it/s]\n"
     ]
    },
    {
     "name": "stdout",
     "output_type": "stream",
     "text": [
      "| Epoch 4 | Validate | loss 0.249700 | acc 0.932324 |!!!!!!!!!!!!!!!!!!!!!!!!!\n",
      "| Epoch 6 | New best validation loss: 0.2497 **********************\n"
     ]
    },
    {
     "name": "stderr",
     "output_type": "stream",
     "text": [
      "100%|██████████| 439/439 [00:05<00:00, 76.46it/s]\n"
     ]
    },
    {
     "name": "stdout",
     "output_type": "stream",
     "text": [
      "| Epoch 7 | Train | loss 0.087780 | acc 0.971437 |\n"
     ]
    },
    {
     "name": "stderr",
     "output_type": "stream",
     "text": [
      "100%|██████████| 102/102 [00:00<00:00, 215.66it/s]\n"
     ]
    },
    {
     "name": "stdout",
     "output_type": "stream",
     "text": [
      "| Epoch 4 | Validate | loss 0.273136 | acc 0.933686 |!!!!!!!!!!!!!!!!!!!!!!!!!\n"
     ]
    },
    {
     "name": "stderr",
     "output_type": "stream",
     "text": [
      "100%|██████████| 439/439 [00:05<00:00, 76.41it/s]\n"
     ]
    },
    {
     "name": "stdout",
     "output_type": "stream",
     "text": [
      "| Epoch 8 | Train | loss 0.072951 | acc 0.975705 |\n"
     ]
    },
    {
     "name": "stderr",
     "output_type": "stream",
     "text": [
      "100%|██████████| 102/102 [00:00<00:00, 210.71it/s]\n",
      "\u001B[32m[I 2023-03-16 19:18:16,386]\u001B[0m Trial 8 finished with value: 0.24969972670078278 and parameters: {'embed_size': 128, 'num_heads': 2, 'hidden_size': 256, 'num_layers': 3, 'lr': 0.00033026053820606785}. Best is trial 3 with value: 0.23936066031455994.\u001B[0m\n"
     ]
    },
    {
     "name": "stdout",
     "output_type": "stream",
     "text": [
      "| Epoch 4 | Validate | loss 0.293970 | acc 0.934348 |!!!!!!!!!!!!!!!!!!!!!!!!!\n",
      "Early stopping triggered at epoch 8.\n",
      "Best epoch is: 6\n"
     ]
    },
    {
     "name": "stderr",
     "output_type": "stream",
     "text": [
      "100%|██████████| 439/439 [00:06<00:00, 64.40it/s]\n"
     ]
    },
    {
     "name": "stdout",
     "output_type": "stream",
     "text": [
      "| Epoch 1 | Train | loss 0.408320 | acc 0.890444 |\n"
     ]
    },
    {
     "name": "stderr",
     "output_type": "stream",
     "text": [
      "100%|██████████| 102/102 [00:00<00:00, 180.37it/s]\n"
     ]
    },
    {
     "name": "stdout",
     "output_type": "stream",
     "text": [
      "| Epoch 4 | Validate | loss 0.275413 | acc 0.922881 |!!!!!!!!!!!!!!!!!!!!!!!!!\n",
      "| Epoch 1 | New best validation loss: 0.2754 **********************\n"
     ]
    },
    {
     "name": "stderr",
     "output_type": "stream",
     "text": [
      "100%|██████████| 439/439 [00:06<00:00, 64.39it/s]\n"
     ]
    },
    {
     "name": "stdout",
     "output_type": "stream",
     "text": [
      "| Epoch 2 | Train | loss 0.156313 | acc 0.952854 |\n"
     ]
    },
    {
     "name": "stderr",
     "output_type": "stream",
     "text": [
      "100%|██████████| 102/102 [00:00<00:00, 182.23it/s]\n"
     ]
    },
    {
     "name": "stdout",
     "output_type": "stream",
     "text": [
      "| Epoch 4 | Validate | loss 0.249246 | acc 0.929695 |!!!!!!!!!!!!!!!!!!!!!!!!!\n",
      "| Epoch 2 | New best validation loss: 0.2492 **********************\n"
     ]
    },
    {
     "name": "stderr",
     "output_type": "stream",
     "text": [
      "100%|██████████| 439/439 [00:06<00:00, 64.15it/s]\n"
     ]
    },
    {
     "name": "stdout",
     "output_type": "stream",
     "text": [
      "| Epoch 3 | Train | loss 0.092122 | acc 0.970327 |\n"
     ]
    },
    {
     "name": "stderr",
     "output_type": "stream",
     "text": [
      "100%|██████████| 102/102 [00:00<00:00, 178.82it/s]\n"
     ]
    },
    {
     "name": "stdout",
     "output_type": "stream",
     "text": [
      "| Epoch 4 | Validate | loss 0.255192 | acc 0.933803 |!!!!!!!!!!!!!!!!!!!!!!!!!\n"
     ]
    },
    {
     "name": "stderr",
     "output_type": "stream",
     "text": [
      "100%|██████████| 439/439 [00:06<00:00, 64.21it/s]\n"
     ]
    },
    {
     "name": "stdout",
     "output_type": "stream",
     "text": [
      "| Epoch 4 | Train | loss 0.066944 | acc 0.977463 |\n"
     ]
    },
    {
     "name": "stderr",
     "output_type": "stream",
     "text": [
      "100%|██████████| 102/102 [00:00<00:00, 178.78it/s]\n",
      "\u001B[32m[I 2023-03-16 19:18:45,999]\u001B[0m Trial 9 finished with value: 0.24924619495868683 and parameters: {'embed_size': 256, 'num_heads': 2, 'hidden_size': 512, 'num_layers': 2, 'lr': 0.0007488095638381202}. Best is trial 3 with value: 0.23936066031455994.\u001B[0m\n"
     ]
    },
    {
     "name": "stdout",
     "output_type": "stream",
     "text": [
      "| Epoch 4 | Validate | loss 0.254318 | acc 0.933355 |!!!!!!!!!!!!!!!!!!!!!!!!!\n",
      "Early stopping triggered at epoch 4.\n",
      "Best epoch is: 2\n"
     ]
    },
    {
     "name": "stderr",
     "output_type": "stream",
     "text": [
      "100%|██████████| 439/439 [00:07<00:00, 55.82it/s]\n"
     ]
    },
    {
     "name": "stdout",
     "output_type": "stream",
     "text": [
      "| Epoch 1 | Train | loss 0.742315 | acc 0.830101 |\n"
     ]
    },
    {
     "name": "stderr",
     "output_type": "stream",
     "text": [
      "100%|██████████| 102/102 [00:00<00:00, 158.09it/s]\n"
     ]
    },
    {
     "name": "stdout",
     "output_type": "stream",
     "text": [
      "| Epoch 4 | Validate | loss 0.636974 | acc 0.835559 |!!!!!!!!!!!!!!!!!!!!!!!!!\n",
      "| Epoch 1 | New best validation loss: 0.6370 **********************\n"
     ]
    },
    {
     "name": "stderr",
     "output_type": "stream",
     "text": [
      "100%|██████████| 439/439 [00:07<00:00, 55.99it/s]\n"
     ]
    },
    {
     "name": "stdout",
     "output_type": "stream",
     "text": [
      "| Epoch 2 | Train | loss 0.595859 | acc 0.841451 |\n"
     ]
    },
    {
     "name": "stderr",
     "output_type": "stream",
     "text": [
      "100%|██████████| 102/102 [00:00<00:00, 156.68it/s]\n"
     ]
    },
    {
     "name": "stdout",
     "output_type": "stream",
     "text": [
      "| Epoch 4 | Validate | loss 0.504456 | acc 0.860013 |!!!!!!!!!!!!!!!!!!!!!!!!!\n",
      "| Epoch 2 | New best validation loss: 0.5045 **********************\n"
     ]
    },
    {
     "name": "stderr",
     "output_type": "stream",
     "text": [
      "100%|██████████| 439/439 [00:07<00:00, 56.01it/s]\n"
     ]
    },
    {
     "name": "stdout",
     "output_type": "stream",
     "text": [
      "| Epoch 3 | Train | loss 0.491913 | acc 0.861424 |\n"
     ]
    },
    {
     "name": "stderr",
     "output_type": "stream",
     "text": [
      "100%|██████████| 102/102 [00:00<00:00, 159.46it/s]\n"
     ]
    },
    {
     "name": "stdout",
     "output_type": "stream",
     "text": [
      "| Epoch 4 | Validate | loss 0.474141 | acc 0.874499 |!!!!!!!!!!!!!!!!!!!!!!!!!\n",
      "| Epoch 3 | New best validation loss: 0.4741 **********************\n"
     ]
    },
    {
     "name": "stderr",
     "output_type": "stream",
     "text": [
      "100%|██████████| 439/439 [00:07<00:00, 55.80it/s]\n"
     ]
    },
    {
     "name": "stdout",
     "output_type": "stream",
     "text": [
      "| Epoch 4 | Train | loss 0.417774 | acc 0.878028 |\n"
     ]
    },
    {
     "name": "stderr",
     "output_type": "stream",
     "text": [
      "100%|██████████| 102/102 [00:00<00:00, 154.98it/s]\n"
     ]
    },
    {
     "name": "stdout",
     "output_type": "stream",
     "text": [
      "| Epoch 4 | Validate | loss 0.397983 | acc 0.888984 |!!!!!!!!!!!!!!!!!!!!!!!!!\n",
      "| Epoch 4 | New best validation loss: 0.3980 **********************\n"
     ]
    },
    {
     "name": "stderr",
     "output_type": "stream",
     "text": [
      "100%|██████████| 439/439 [00:07<00:00, 55.75it/s]\n"
     ]
    },
    {
     "name": "stdout",
     "output_type": "stream",
     "text": [
      "| Epoch 5 | Train | loss 0.365088 | acc 0.890949 |\n"
     ]
    },
    {
     "name": "stderr",
     "output_type": "stream",
     "text": [
      "100%|██████████| 102/102 [00:00<00:00, 159.47it/s]\n"
     ]
    },
    {
     "name": "stdout",
     "output_type": "stream",
     "text": [
      "| Epoch 4 | Validate | loss 0.376901 | acc 0.895837 |!!!!!!!!!!!!!!!!!!!!!!!!!\n",
      "| Epoch 5 | New best validation loss: 0.3769 **********************\n"
     ]
    },
    {
     "name": "stderr",
     "output_type": "stream",
     "text": [
      "100%|██████████| 439/439 [00:07<00:00, 55.47it/s]\n"
     ]
    },
    {
     "name": "stdout",
     "output_type": "stream",
     "text": [
      "| Epoch 6 | Train | loss 0.322933 | acc 0.901695 |\n"
     ]
    },
    {
     "name": "stderr",
     "output_type": "stream",
     "text": [
      "100%|██████████| 102/102 [00:00<00:00, 159.91it/s]\n"
     ]
    },
    {
     "name": "stdout",
     "output_type": "stream",
     "text": [
      "| Epoch 4 | Validate | loss 0.355426 | acc 0.901698 |!!!!!!!!!!!!!!!!!!!!!!!!!\n",
      "| Epoch 6 | New best validation loss: 0.3554 **********************\n"
     ]
    },
    {
     "name": "stderr",
     "output_type": "stream",
     "text": [
      "100%|██████████| 439/439 [00:07<00:00, 55.76it/s]\n"
     ]
    },
    {
     "name": "stdout",
     "output_type": "stream",
     "text": [
      "| Epoch 7 | Train | loss 0.288320 | acc 0.911836 |\n"
     ]
    },
    {
     "name": "stderr",
     "output_type": "stream",
     "text": [
      "100%|██████████| 102/102 [00:00<00:00, 159.23it/s]\n"
     ]
    },
    {
     "name": "stdout",
     "output_type": "stream",
     "text": [
      "| Epoch 4 | Validate | loss 0.325932 | acc 0.906176 |!!!!!!!!!!!!!!!!!!!!!!!!!\n",
      "| Epoch 7 | New best validation loss: 0.3259 **********************\n"
     ]
    },
    {
     "name": "stderr",
     "output_type": "stream",
     "text": [
      "100%|██████████| 439/439 [00:07<00:00, 55.64it/s]\n"
     ]
    },
    {
     "name": "stdout",
     "output_type": "stream",
     "text": [
      "| Epoch 8 | Train | loss 0.259241 | acc 0.919787 |\n"
     ]
    },
    {
     "name": "stderr",
     "output_type": "stream",
     "text": [
      "100%|██████████| 102/102 [00:00<00:00, 158.27it/s]\n"
     ]
    },
    {
     "name": "stdout",
     "output_type": "stream",
     "text": [
      "| Epoch 4 | Validate | loss 0.318868 | acc 0.911024 |!!!!!!!!!!!!!!!!!!!!!!!!!\n",
      "| Epoch 8 | New best validation loss: 0.3189 **********************\n"
     ]
    },
    {
     "name": "stderr",
     "output_type": "stream",
     "text": [
      "100%|██████████| 439/439 [00:07<00:00, 55.67it/s]\n"
     ]
    },
    {
     "name": "stdout",
     "output_type": "stream",
     "text": [
      "| Epoch 9 | Train | loss 0.235379 | acc 0.926898 |\n"
     ]
    },
    {
     "name": "stderr",
     "output_type": "stream",
     "text": [
      "100%|██████████| 102/102 [00:00<00:00, 160.14it/s]\n"
     ]
    },
    {
     "name": "stdout",
     "output_type": "stream",
     "text": [
      "| Epoch 4 | Validate | loss 0.314352 | acc 0.914567 |!!!!!!!!!!!!!!!!!!!!!!!!!\n",
      "| Epoch 9 | New best validation loss: 0.3144 **********************\n"
     ]
    },
    {
     "name": "stderr",
     "output_type": "stream",
     "text": [
      "100%|██████████| 439/439 [00:07<00:00, 55.69it/s]\n"
     ]
    },
    {
     "name": "stdout",
     "output_type": "stream",
     "text": [
      "| Epoch 10 | Train | loss 0.213340 | acc 0.933553 |\n"
     ]
    },
    {
     "name": "stderr",
     "output_type": "stream",
     "text": [
      "100%|██████████| 102/102 [00:00<00:00, 150.31it/s]\n",
      "\u001B[32m[I 2023-03-16 19:20:11,282]\u001B[0m Trial 10 finished with value: 0.29700174927711487 and parameters: {'embed_size': 128, 'num_heads': 4, 'hidden_size': 512, 'num_layers': 4, 'lr': 7.78231772194265e-05}. Best is trial 3 with value: 0.23936066031455994.\u001B[0m\n"
     ]
    },
    {
     "name": "stdout",
     "output_type": "stream",
     "text": [
      "| Epoch 4 | Validate | loss 0.297002 | acc 0.917488 |!!!!!!!!!!!!!!!!!!!!!!!!!\n",
      "| Epoch 10 | New best validation loss: 0.2970 **********************\n"
     ]
    },
    {
     "name": "stderr",
     "output_type": "stream",
     "text": [
      "100%|██████████| 439/439 [00:11<00:00, 37.24it/s]\n"
     ]
    },
    {
     "name": "stdout",
     "output_type": "stream",
     "text": [
      "| Epoch 1 | Train | loss 0.470577 | acc 0.876064 |\n"
     ]
    },
    {
     "name": "stderr",
     "output_type": "stream",
     "text": [
      "100%|██████████| 102/102 [00:00<00:00, 116.26it/s]\n"
     ]
    },
    {
     "name": "stdout",
     "output_type": "stream",
     "text": [
      "| Epoch 4 | Validate | loss 0.319294 | acc 0.914119 |!!!!!!!!!!!!!!!!!!!!!!!!!\n",
      "| Epoch 1 | New best validation loss: 0.3193 **********************\n"
     ]
    },
    {
     "name": "stderr",
     "output_type": "stream",
     "text": [
      "100%|██████████| 439/439 [00:11<00:00, 38.11it/s]\n"
     ]
    },
    {
     "name": "stdout",
     "output_type": "stream",
     "text": [
      "| Epoch 2 | Train | loss 0.193940 | acc 0.942025 |\n"
     ]
    },
    {
     "name": "stderr",
     "output_type": "stream",
     "text": [
      "100%|██████████| 102/102 [00:00<00:00, 116.85it/s]\n"
     ]
    },
    {
     "name": "stdout",
     "output_type": "stream",
     "text": [
      "| Epoch 4 | Validate | loss 0.270800 | acc 0.927904 |!!!!!!!!!!!!!!!!!!!!!!!!!\n",
      "| Epoch 2 | New best validation loss: 0.2708 **********************\n"
     ]
    },
    {
     "name": "stderr",
     "output_type": "stream",
     "text": [
      "100%|██████████| 439/439 [00:11<00:00, 38.19it/s]\n"
     ]
    },
    {
     "name": "stdout",
     "output_type": "stream",
     "text": [
      "| Epoch 3 | Train | loss 0.108310 | acc 0.966045 |\n"
     ]
    },
    {
     "name": "stderr",
     "output_type": "stream",
     "text": [
      "100%|██████████| 102/102 [00:00<00:00, 117.74it/s]\n"
     ]
    },
    {
     "name": "stdout",
     "output_type": "stream",
     "text": [
      "| Epoch 4 | Validate | loss 0.253321 | acc 0.934504 |!!!!!!!!!!!!!!!!!!!!!!!!!\n",
      "| Epoch 3 | New best validation loss: 0.2533 **********************\n"
     ]
    },
    {
     "name": "stderr",
     "output_type": "stream",
     "text": [
      "100%|██████████| 439/439 [00:11<00:00, 38.09it/s]\n"
     ]
    },
    {
     "name": "stdout",
     "output_type": "stream",
     "text": [
      "| Epoch 4 | Train | loss 0.070072 | acc 0.977159 |\n"
     ]
    },
    {
     "name": "stderr",
     "output_type": "stream",
     "text": [
      "100%|██████████| 102/102 [00:00<00:00, 117.42it/s]\n"
     ]
    },
    {
     "name": "stdout",
     "output_type": "stream",
     "text": [
      "| Epoch 4 | Validate | loss 0.284248 | acc 0.935692 |!!!!!!!!!!!!!!!!!!!!!!!!!\n"
     ]
    },
    {
     "name": "stderr",
     "output_type": "stream",
     "text": [
      "100%|██████████| 439/439 [00:11<00:00, 38.06it/s]\n"
     ]
    },
    {
     "name": "stdout",
     "output_type": "stream",
     "text": [
      "| Epoch 5 | Train | loss 0.051509 | acc 0.982561 |\n"
     ]
    },
    {
     "name": "stderr",
     "output_type": "stream",
     "text": [
      "100%|██████████| 102/102 [00:00<00:00, 117.26it/s]\n",
      "\u001B[32m[I 2023-03-16 19:21:13,607]\u001B[0m Trial 11 finished with value: 0.25332143902778625 and parameters: {'embed_size': 512, 'num_heads': 4, 'hidden_size': 128, 'num_layers': 2, 'lr': 0.00022506985812860734}. Best is trial 3 with value: 0.23936066031455994.\u001B[0m\n"
     ]
    },
    {
     "name": "stdout",
     "output_type": "stream",
     "text": [
      "| Epoch 4 | Validate | loss 0.306921 | acc 0.933706 |!!!!!!!!!!!!!!!!!!!!!!!!!\n",
      "Early stopping triggered at epoch 5.\n",
      "Best epoch is: 3\n"
     ]
    },
    {
     "name": "stderr",
     "output_type": "stream",
     "text": [
      "100%|██████████| 439/439 [00:24<00:00, 18.00it/s]\n"
     ]
    },
    {
     "name": "stdout",
     "output_type": "stream",
     "text": [
      "| Epoch 1 | Train | loss 0.535833 | acc 0.863604 |\n"
     ]
    },
    {
     "name": "stderr",
     "output_type": "stream",
     "text": [
      "100%|██████████| 102/102 [00:01<00:00, 56.96it/s]\n"
     ]
    },
    {
     "name": "stdout",
     "output_type": "stream",
     "text": [
      "| Epoch 4 | Validate | loss 0.328280 | acc 0.910556 |!!!!!!!!!!!!!!!!!!!!!!!!!\n",
      "| Epoch 1 | New best validation loss: 0.3283 **********************\n"
     ]
    },
    {
     "name": "stderr",
     "output_type": "stream",
     "text": [
      "100%|██████████| 439/439 [00:24<00:00, 17.97it/s]\n"
     ]
    },
    {
     "name": "stdout",
     "output_type": "stream",
     "text": [
      "| Epoch 2 | Train | loss 0.210889 | acc 0.937015 |\n"
     ]
    },
    {
     "name": "stderr",
     "output_type": "stream",
     "text": [
      "100%|██████████| 102/102 [00:01<00:00, 56.93it/s]\n"
     ]
    },
    {
     "name": "stdout",
     "output_type": "stream",
     "text": [
      "| Epoch 4 | Validate | loss 0.273266 | acc 0.923913 |!!!!!!!!!!!!!!!!!!!!!!!!!\n",
      "| Epoch 2 | New best validation loss: 0.2733 **********************\n"
     ]
    },
    {
     "name": "stderr",
     "output_type": "stream",
     "text": [
      "100%|██████████| 439/439 [00:24<00:00, 18.00it/s]\n"
     ]
    },
    {
     "name": "stdout",
     "output_type": "stream",
     "text": [
      "| Epoch 3 | Train | loss 0.134627 | acc 0.959071 |\n"
     ]
    },
    {
     "name": "stderr",
     "output_type": "stream",
     "text": [
      "100%|██████████| 102/102 [00:01<00:00, 56.72it/s]\n"
     ]
    },
    {
     "name": "stdout",
     "output_type": "stream",
     "text": [
      "| Epoch 4 | Validate | loss 0.281045 | acc 0.932538 |!!!!!!!!!!!!!!!!!!!!!!!!!\n"
     ]
    },
    {
     "name": "stderr",
     "output_type": "stream",
     "text": [
      "100%|██████████| 439/439 [00:24<00:00, 17.98it/s]\n"
     ]
    },
    {
     "name": "stdout",
     "output_type": "stream",
     "text": [
      "| Epoch 4 | Train | loss 0.106402 | acc 0.967248 |\n"
     ]
    },
    {
     "name": "stderr",
     "output_type": "stream",
     "text": [
      "100%|██████████| 102/102 [00:01<00:00, 56.98it/s]\n",
      "\u001B[32m[I 2023-03-16 19:22:58,500]\u001B[0m Trial 12 finished with value: 0.27326616644859314 and parameters: {'embed_size': 512, 'num_heads': 8, 'hidden_size': 512, 'num_layers': 4, 'lr': 0.00048163876991890115}. Best is trial 3 with value: 0.23936066031455994.\u001B[0m\n"
     ]
    },
    {
     "name": "stdout",
     "output_type": "stream",
     "text": [
      "| Epoch 4 | Validate | loss 0.323055 | acc 0.932538 |!!!!!!!!!!!!!!!!!!!!!!!!!\n",
      "Early stopping triggered at epoch 4.\n",
      "Best epoch is: 2\n"
     ]
    },
    {
     "name": "stderr",
     "output_type": "stream",
     "text": [
      "100%|██████████| 439/439 [00:18<00:00, 24.00it/s]\n"
     ]
    },
    {
     "name": "stdout",
     "output_type": "stream",
     "text": [
      "| Epoch 1 | Train | loss 0.469963 | acc 0.880066 |\n"
     ]
    },
    {
     "name": "stderr",
     "output_type": "stream",
     "text": [
      "100%|██████████| 102/102 [00:01<00:00, 75.35it/s]\n"
     ]
    },
    {
     "name": "stdout",
     "output_type": "stream",
     "text": [
      "| Epoch 4 | Validate | loss 0.308914 | acc 0.919026 |!!!!!!!!!!!!!!!!!!!!!!!!!\n",
      "| Epoch 1 | New best validation loss: 0.3089 **********************\n"
     ]
    },
    {
     "name": "stderr",
     "output_type": "stream",
     "text": [
      "100%|██████████| 439/439 [00:18<00:00, 24.07it/s]\n"
     ]
    },
    {
     "name": "stdout",
     "output_type": "stream",
     "text": [
      "| Epoch 2 | Train | loss 0.167602 | acc 0.949990 |\n"
     ]
    },
    {
     "name": "stderr",
     "output_type": "stream",
     "text": [
      "100%|██████████| 102/102 [00:01<00:00, 74.72it/s]\n"
     ]
    },
    {
     "name": "stdout",
     "output_type": "stream",
     "text": [
      "| Epoch 4 | Validate | loss 0.264766 | acc 0.931467 |!!!!!!!!!!!!!!!!!!!!!!!!!\n",
      "| Epoch 2 | New best validation loss: 0.2648 **********************\n"
     ]
    },
    {
     "name": "stderr",
     "output_type": "stream",
     "text": [
      "100%|██████████| 439/439 [00:18<00:00, 24.08it/s]\n"
     ]
    },
    {
     "name": "stdout",
     "output_type": "stream",
     "text": [
      "| Epoch 3 | Train | loss 0.103756 | acc 0.967999 |\n"
     ]
    },
    {
     "name": "stderr",
     "output_type": "stream",
     "text": [
      "100%|██████████| 102/102 [00:01<00:00, 75.75it/s]\n"
     ]
    },
    {
     "name": "stdout",
     "output_type": "stream",
     "text": [
      "| Epoch 4 | Validate | loss 0.244757 | acc 0.932966 |!!!!!!!!!!!!!!!!!!!!!!!!!\n",
      "| Epoch 3 | New best validation loss: 0.2448 **********************\n"
     ]
    },
    {
     "name": "stderr",
     "output_type": "stream",
     "text": [
      "100%|██████████| 439/439 [00:18<00:00, 24.09it/s]\n"
     ]
    },
    {
     "name": "stdout",
     "output_type": "stream",
     "text": [
      "| Epoch 4 | Train | loss 0.080099 | acc 0.974261 |\n"
     ]
    },
    {
     "name": "stderr",
     "output_type": "stream",
     "text": [
      "100%|██████████| 102/102 [00:01<00:00, 75.14it/s]\n"
     ]
    },
    {
     "name": "stdout",
     "output_type": "stream",
     "text": [
      "| Epoch 4 | Validate | loss 0.276865 | acc 0.933180 |!!!!!!!!!!!!!!!!!!!!!!!!!\n"
     ]
    },
    {
     "name": "stderr",
     "output_type": "stream",
     "text": [
      "100%|██████████| 439/439 [00:18<00:00, 24.05it/s]\n"
     ]
    },
    {
     "name": "stdout",
     "output_type": "stream",
     "text": [
      "| Epoch 5 | Train | loss 0.071194 | acc 0.976712 |\n"
     ]
    },
    {
     "name": "stderr",
     "output_type": "stream",
     "text": [
      "100%|██████████| 102/102 [00:01<00:00, 75.24it/s]\n",
      "\u001B[32m[I 2023-03-16 19:24:36,681]\u001B[0m Trial 13 finished with value: 0.2447567582130432 and parameters: {'embed_size': 512, 'num_heads': 4, 'hidden_size': 512, 'num_layers': 3, 'lr': 0.000530042943955299}. Best is trial 3 with value: 0.23936066031455994.\u001B[0m\n"
     ]
    },
    {
     "name": "stdout",
     "output_type": "stream",
     "text": [
      "| Epoch 4 | Validate | loss 0.278663 | acc 0.927748 |!!!!!!!!!!!!!!!!!!!!!!!!!\n",
      "Early stopping triggered at epoch 5.\n",
      "Best epoch is: 3\n"
     ]
    },
    {
     "name": "stderr",
     "output_type": "stream",
     "text": [
      "100%|██████████| 439/439 [00:12<00:00, 36.25it/s]\n"
     ]
    },
    {
     "name": "stdout",
     "output_type": "stream",
     "text": [
      "| Epoch 1 | Train | loss 0.466079 | acc 0.876373 |\n"
     ]
    },
    {
     "name": "stderr",
     "output_type": "stream",
     "text": [
      "100%|██████████| 102/102 [00:00<00:00, 108.17it/s]\n"
     ]
    },
    {
     "name": "stdout",
     "output_type": "stream",
     "text": [
      "| Epoch 4 | Validate | loss 0.319671 | acc 0.914879 |!!!!!!!!!!!!!!!!!!!!!!!!!\n",
      "| Epoch 1 | New best validation loss: 0.3197 **********************\n"
     ]
    },
    {
     "name": "stderr",
     "output_type": "stream",
     "text": [
      "100%|██████████| 439/439 [00:12<00:00, 36.32it/s]\n"
     ]
    },
    {
     "name": "stdout",
     "output_type": "stream",
     "text": [
      "| Epoch 2 | Train | loss 0.189581 | acc 0.943601 |\n"
     ]
    },
    {
     "name": "stderr",
     "output_type": "stream",
     "text": [
      "100%|██████████| 102/102 [00:00<00:00, 112.82it/s]\n"
     ]
    },
    {
     "name": "stdout",
     "output_type": "stream",
     "text": [
      "| Epoch 4 | Validate | loss 0.255663 | acc 0.927437 |!!!!!!!!!!!!!!!!!!!!!!!!!\n",
      "| Epoch 2 | New best validation loss: 0.2557 **********************\n"
     ]
    },
    {
     "name": "stderr",
     "output_type": "stream",
     "text": [
      "100%|██████████| 439/439 [00:12<00:00, 36.12it/s]\n"
     ]
    },
    {
     "name": "stdout",
     "output_type": "stream",
     "text": [
      "| Epoch 3 | Train | loss 0.104529 | acc 0.967268 |\n"
     ]
    },
    {
     "name": "stderr",
     "output_type": "stream",
     "text": [
      "100%|██████████| 102/102 [00:00<00:00, 109.93it/s]\n"
     ]
    },
    {
     "name": "stdout",
     "output_type": "stream",
     "text": [
      "| Epoch 4 | Validate | loss 0.268682 | acc 0.931545 |!!!!!!!!!!!!!!!!!!!!!!!!!\n"
     ]
    },
    {
     "name": "stderr",
     "output_type": "stream",
     "text": [
      "100%|██████████| 439/439 [00:12<00:00, 35.49it/s]\n"
     ]
    },
    {
     "name": "stdout",
     "output_type": "stream",
     "text": [
      "| Epoch 4 | Train | loss 0.067233 | acc 0.977777 |\n"
     ]
    },
    {
     "name": "stderr",
     "output_type": "stream",
     "text": [
      "100%|██████████| 102/102 [00:00<00:00, 110.94it/s]\n",
      "\u001B[32m[I 2023-03-16 19:25:29,223]\u001B[0m Trial 14 finished with value: 0.2556627094745636 and parameters: {'embed_size': 512, 'num_heads': 8, 'hidden_size': 128, 'num_layers': 2, 'lr': 0.00024283503923421776}. Best is trial 3 with value: 0.23936066031455994.\u001B[0m\n"
     ]
    },
    {
     "name": "stdout",
     "output_type": "stream",
     "text": [
      "| Epoch 4 | Validate | loss 0.316621 | acc 0.933239 |!!!!!!!!!!!!!!!!!!!!!!!!!\n",
      "Early stopping triggered at epoch 4.\n",
      "Best epoch is: 2\n"
     ]
    },
    {
     "name": "stderr",
     "output_type": "stream",
     "text": [
      "100%|██████████| 439/439 [00:08<00:00, 50.94it/s]\n"
     ]
    },
    {
     "name": "stdout",
     "output_type": "stream",
     "text": [
      "| Epoch 1 | Train | loss 0.506751 | acc 0.870298 |\n"
     ]
    },
    {
     "name": "stderr",
     "output_type": "stream",
     "text": [
      "100%|██████████| 102/102 [00:00<00:00, 147.14it/s]\n"
     ]
    },
    {
     "name": "stdout",
     "output_type": "stream",
     "text": [
      "| Epoch 4 | Validate | loss 0.308833 | acc 0.910070 |!!!!!!!!!!!!!!!!!!!!!!!!!\n",
      "| Epoch 1 | New best validation loss: 0.3088 **********************\n"
     ]
    },
    {
     "name": "stderr",
     "output_type": "stream",
     "text": [
      "100%|██████████| 439/439 [00:08<00:00, 50.95it/s]\n"
     ]
    },
    {
     "name": "stdout",
     "output_type": "stream",
     "text": [
      "| Epoch 2 | Train | loss 0.209727 | acc 0.937619 |\n"
     ]
    },
    {
     "name": "stderr",
     "output_type": "stream",
     "text": [
      "100%|██████████| 102/102 [00:00<00:00, 145.64it/s]\n"
     ]
    },
    {
     "name": "stdout",
     "output_type": "stream",
     "text": [
      "| Epoch 4 | Validate | loss 0.251011 | acc 0.930065 |!!!!!!!!!!!!!!!!!!!!!!!!!\n",
      "| Epoch 2 | New best validation loss: 0.2510 **********************\n"
     ]
    },
    {
     "name": "stderr",
     "output_type": "stream",
     "text": [
      "100%|██████████| 439/439 [00:08<00:00, 51.01it/s]\n"
     ]
    },
    {
     "name": "stdout",
     "output_type": "stream",
     "text": [
      "| Epoch 3 | Train | loss 0.121144 | acc 0.962528 |\n"
     ]
    },
    {
     "name": "stderr",
     "output_type": "stream",
     "text": [
      "100%|██████████| 102/102 [00:00<00:00, 147.45it/s]\n"
     ]
    },
    {
     "name": "stdout",
     "output_type": "stream",
     "text": [
      "| Epoch 4 | Validate | loss 0.238180 | acc 0.933745 |!!!!!!!!!!!!!!!!!!!!!!!!!\n",
      "| Epoch 3 | New best validation loss: 0.2382 **********************\n"
     ]
    },
    {
     "name": "stderr",
     "output_type": "stream",
     "text": [
      "100%|██████████| 439/439 [00:08<00:00, 51.00it/s]\n"
     ]
    },
    {
     "name": "stdout",
     "output_type": "stream",
     "text": [
      "| Epoch 4 | Train | loss 0.084051 | acc 0.972847 |\n"
     ]
    },
    {
     "name": "stderr",
     "output_type": "stream",
     "text": [
      "100%|██████████| 102/102 [00:00<00:00, 148.21it/s]\n"
     ]
    },
    {
     "name": "stdout",
     "output_type": "stream",
     "text": [
      "| Epoch 4 | Validate | loss 0.271811 | acc 0.934582 |!!!!!!!!!!!!!!!!!!!!!!!!!\n"
     ]
    },
    {
     "name": "stderr",
     "output_type": "stream",
     "text": [
      "100%|██████████| 439/439 [00:08<00:00, 50.91it/s]\n"
     ]
    },
    {
     "name": "stdout",
     "output_type": "stream",
     "text": [
      "| Epoch 5 | Train | loss 0.063140 | acc 0.979305 |\n"
     ]
    },
    {
     "name": "stderr",
     "output_type": "stream",
     "text": [
      "100%|██████████| 102/102 [00:00<00:00, 148.32it/s]\n",
      "\u001B[32m[I 2023-03-16 19:26:15,821]\u001B[0m Trial 15 finished with value: 0.23818016052246094 and parameters: {'embed_size': 256, 'num_heads': 4, 'hidden_size': 256, 'num_layers': 3, 'lr': 0.000456008621520148}. Best is trial 15 with value: 0.23818016052246094.\u001B[0m\n"
     ]
    },
    {
     "name": "stdout",
     "output_type": "stream",
     "text": [
      "| Epoch 4 | Validate | loss 0.265541 | acc 0.935030 |!!!!!!!!!!!!!!!!!!!!!!!!!\n",
      "Early stopping triggered at epoch 5.\n",
      "Best epoch is: 3\n"
     ]
    },
    {
     "name": "stderr",
     "output_type": "stream",
     "text": [
      "100%|██████████| 439/439 [00:07<00:00, 62.22it/s]\n"
     ]
    },
    {
     "name": "stdout",
     "output_type": "stream",
     "text": [
      "| Epoch 1 | Train | loss 0.482675 | acc 0.874983 |\n"
     ]
    },
    {
     "name": "stderr",
     "output_type": "stream",
     "text": [
      "100%|██████████| 102/102 [00:00<00:00, 176.47it/s]\n"
     ]
    },
    {
     "name": "stdout",
     "output_type": "stream",
     "text": [
      "| Epoch 4 | Validate | loss 0.331675 | acc 0.912017 |!!!!!!!!!!!!!!!!!!!!!!!!!\n",
      "| Epoch 1 | New best validation loss: 0.3317 **********************\n"
     ]
    },
    {
     "name": "stderr",
     "output_type": "stream",
     "text": [
      "100%|██████████| 439/439 [00:07<00:00, 62.35it/s]\n"
     ]
    },
    {
     "name": "stdout",
     "output_type": "stream",
     "text": [
      "| Epoch 2 | Train | loss 0.195360 | acc 0.942241 |\n"
     ]
    },
    {
     "name": "stderr",
     "output_type": "stream",
     "text": [
      "100%|██████████| 102/102 [00:00<00:00, 175.93it/s]\n"
     ]
    },
    {
     "name": "stdout",
     "output_type": "stream",
     "text": [
      "| Epoch 4 | Validate | loss 0.263481 | acc 0.928352 |!!!!!!!!!!!!!!!!!!!!!!!!!\n",
      "| Epoch 2 | New best validation loss: 0.2635 **********************\n"
     ]
    },
    {
     "name": "stderr",
     "output_type": "stream",
     "text": [
      "100%|██████████| 439/439 [00:07<00:00, 62.16it/s]\n"
     ]
    },
    {
     "name": "stdout",
     "output_type": "stream",
     "text": [
      "| Epoch 3 | Train | loss 0.112842 | acc 0.964424 |\n"
     ]
    },
    {
     "name": "stderr",
     "output_type": "stream",
     "text": [
      "100%|██████████| 102/102 [00:00<00:00, 171.63it/s]\n"
     ]
    },
    {
     "name": "stdout",
     "output_type": "stream",
     "text": [
      "| Epoch 4 | Validate | loss 0.253101 | acc 0.934154 |!!!!!!!!!!!!!!!!!!!!!!!!!\n",
      "| Epoch 3 | New best validation loss: 0.2531 **********************\n"
     ]
    },
    {
     "name": "stderr",
     "output_type": "stream",
     "text": [
      "100%|██████████| 439/439 [00:07<00:00, 62.12it/s]\n"
     ]
    },
    {
     "name": "stdout",
     "output_type": "stream",
     "text": [
      "| Epoch 4 | Train | loss 0.074746 | acc 0.975282 |\n"
     ]
    },
    {
     "name": "stderr",
     "output_type": "stream",
     "text": [
      "100%|██████████| 102/102 [00:00<00:00, 171.79it/s]\n"
     ]
    },
    {
     "name": "stdout",
     "output_type": "stream",
     "text": [
      "| Epoch 4 | Validate | loss 0.262762 | acc 0.933881 |!!!!!!!!!!!!!!!!!!!!!!!!!\n"
     ]
    },
    {
     "name": "stderr",
     "output_type": "stream",
     "text": [
      "100%|██████████| 439/439 [00:07<00:00, 62.22it/s]\n"
     ]
    },
    {
     "name": "stdout",
     "output_type": "stream",
     "text": [
      "| Epoch 5 | Train | loss 0.056270 | acc 0.980989 |\n"
     ]
    },
    {
     "name": "stderr",
     "output_type": "stream",
     "text": [
      "100%|██████████| 102/102 [00:00<00:00, 171.49it/s]\n",
      "\u001B[32m[I 2023-03-16 19:26:54,136]\u001B[0m Trial 16 finished with value: 0.25310105085372925 and parameters: {'embed_size': 256, 'num_heads': 4, 'hidden_size': 512, 'num_layers': 2, 'lr': 0.00042851961762829566}. Best is trial 15 with value: 0.23818016052246094.\u001B[0m\n"
     ]
    },
    {
     "name": "stdout",
     "output_type": "stream",
     "text": [
      "| Epoch 4 | Validate | loss 0.305664 | acc 0.921985 |!!!!!!!!!!!!!!!!!!!!!!!!!\n",
      "Early stopping triggered at epoch 5.\n",
      "Best epoch is: 3\n"
     ]
    },
    {
     "name": "stderr",
     "output_type": "stream",
     "text": [
      "100%|██████████| 439/439 [00:10<00:00, 40.83it/s]\n"
     ]
    },
    {
     "name": "stdout",
     "output_type": "stream",
     "text": [
      "| Epoch 1 | Train | loss 0.569203 | acc 0.853915 |\n"
     ]
    },
    {
     "name": "stderr",
     "output_type": "stream",
     "text": [
      "100%|██████████| 102/102 [00:00<00:00, 123.97it/s]\n"
     ]
    },
    {
     "name": "stdout",
     "output_type": "stream",
     "text": [
      "| Epoch 4 | Validate | loss 0.390269 | acc 0.894416 |!!!!!!!!!!!!!!!!!!!!!!!!!\n",
      "| Epoch 1 | New best validation loss: 0.3903 **********************\n"
     ]
    },
    {
     "name": "stderr",
     "output_type": "stream",
     "text": [
      "100%|██████████| 439/439 [00:10<00:00, 40.80it/s]\n"
     ]
    },
    {
     "name": "stdout",
     "output_type": "stream",
     "text": [
      "| Epoch 2 | Train | loss 0.281124 | acc 0.915063 |\n"
     ]
    },
    {
     "name": "stderr",
     "output_type": "stream",
     "text": [
      "100%|██████████| 102/102 [00:00<00:00, 123.14it/s]\n"
     ]
    },
    {
     "name": "stdout",
     "output_type": "stream",
     "text": [
      "| Epoch 4 | Validate | loss 0.277007 | acc 0.919474 |!!!!!!!!!!!!!!!!!!!!!!!!!\n",
      "| Epoch 2 | New best validation loss: 0.2770 **********************\n"
     ]
    },
    {
     "name": "stderr",
     "output_type": "stream",
     "text": [
      "100%|██████████| 439/439 [00:10<00:00, 40.93it/s]\n"
     ]
    },
    {
     "name": "stdout",
     "output_type": "stream",
     "text": [
      "| Epoch 3 | Train | loss 0.176864 | acc 0.945423 |\n"
     ]
    },
    {
     "name": "stderr",
     "output_type": "stream",
     "text": [
      "100%|██████████| 102/102 [00:00<00:00, 122.79it/s]\n"
     ]
    },
    {
     "name": "stdout",
     "output_type": "stream",
     "text": [
      "| Epoch 4 | Validate | loss 0.274583 | acc 0.928877 |!!!!!!!!!!!!!!!!!!!!!!!!!\n",
      "| Epoch 3 | New best validation loss: 0.2746 **********************\n"
     ]
    },
    {
     "name": "stderr",
     "output_type": "stream",
     "text": [
      "100%|██████████| 439/439 [00:10<00:00, 40.91it/s]\n"
     ]
    },
    {
     "name": "stdout",
     "output_type": "stream",
     "text": [
      "| Epoch 4 | Train | loss 0.124800 | acc 0.961070 |\n"
     ]
    },
    {
     "name": "stderr",
     "output_type": "stream",
     "text": [
      "100%|██████████| 102/102 [00:00<00:00, 123.18it/s]\n"
     ]
    },
    {
     "name": "stdout",
     "output_type": "stream",
     "text": [
      "| Epoch 4 | Validate | loss 0.248340 | acc 0.931408 |!!!!!!!!!!!!!!!!!!!!!!!!!\n",
      "| Epoch 4 | New best validation loss: 0.2483 **********************\n"
     ]
    },
    {
     "name": "stderr",
     "output_type": "stream",
     "text": [
      "100%|██████████| 439/439 [00:10<00:00, 40.88it/s]\n"
     ]
    },
    {
     "name": "stdout",
     "output_type": "stream",
     "text": [
      "| Epoch 5 | Train | loss 0.093554 | acc 0.970062 |\n"
     ]
    },
    {
     "name": "stderr",
     "output_type": "stream",
     "text": [
      "100%|██████████| 102/102 [00:00<00:00, 122.21it/s]\n"
     ]
    },
    {
     "name": "stdout",
     "output_type": "stream",
     "text": [
      "| Epoch 4 | Validate | loss 0.257503 | acc 0.933784 |!!!!!!!!!!!!!!!!!!!!!!!!!\n"
     ]
    },
    {
     "name": "stderr",
     "output_type": "stream",
     "text": [
      "100%|██████████| 439/439 [00:10<00:00, 40.85it/s]\n"
     ]
    },
    {
     "name": "stdout",
     "output_type": "stream",
     "text": [
      "| Epoch 6 | Train | loss 0.074961 | acc 0.975577 |\n"
     ]
    },
    {
     "name": "stderr",
     "output_type": "stream",
     "text": [
      "100%|██████████| 102/102 [00:00<00:00, 121.86it/s]\n",
      "\u001B[32m[I 2023-03-16 19:28:03,697]\u001B[0m Trial 17 finished with value: 0.2483399659395218 and parameters: {'embed_size': 256, 'num_heads': 4, 'hidden_size': 256, 'num_layers': 4, 'lr': 0.00028245989517727463}. Best is trial 15 with value: 0.23818016052246094.\u001B[0m\n"
     ]
    },
    {
     "name": "stdout",
     "output_type": "stream",
     "text": [
      "| Epoch 4 | Validate | loss 0.262088 | acc 0.931973 |!!!!!!!!!!!!!!!!!!!!!!!!!\n",
      "Early stopping triggered at epoch 6.\n",
      "Best epoch is: 4\n"
     ]
    },
    {
     "name": "stderr",
     "output_type": "stream",
     "text": [
      "100%|██████████| 439/439 [00:09<00:00, 46.06it/s]\n"
     ]
    },
    {
     "name": "stdout",
     "output_type": "stream",
     "text": [
      "| Epoch 1 | Train | loss 0.605745 | acc 0.847781 |\n"
     ]
    },
    {
     "name": "stderr",
     "output_type": "stream",
     "text": [
      "100%|██████████| 102/102 [00:00<00:00, 134.42it/s]\n"
     ]
    },
    {
     "name": "stdout",
     "output_type": "stream",
     "text": [
      "| Epoch 4 | Validate | loss 0.405712 | acc 0.885460 |!!!!!!!!!!!!!!!!!!!!!!!!!\n",
      "| Epoch 1 | New best validation loss: 0.4057 **********************\n"
     ]
    },
    {
     "name": "stderr",
     "output_type": "stream",
     "text": [
      "100%|██████████| 439/439 [00:09<00:00, 46.08it/s]\n"
     ]
    },
    {
     "name": "stdout",
     "output_type": "stream",
     "text": [
      "| Epoch 2 | Train | loss 0.340794 | acc 0.900320 |\n"
     ]
    },
    {
     "name": "stderr",
     "output_type": "stream",
     "text": [
      "100%|██████████| 102/102 [00:00<00:00, 134.88it/s]\n"
     ]
    },
    {
     "name": "stdout",
     "output_type": "stream",
     "text": [
      "| Epoch 4 | Validate | loss 0.343390 | acc 0.907149 |!!!!!!!!!!!!!!!!!!!!!!!!!\n",
      "| Epoch 2 | New best validation loss: 0.3434 **********************\n"
     ]
    },
    {
     "name": "stderr",
     "output_type": "stream",
     "text": [
      "100%|██████████| 439/439 [00:09<00:00, 46.04it/s]\n"
     ]
    },
    {
     "name": "stdout",
     "output_type": "stream",
     "text": [
      "| Epoch 3 | Train | loss 0.227914 | acc 0.930690 |\n"
     ]
    },
    {
     "name": "stderr",
     "output_type": "stream",
     "text": [
      "100%|██████████| 102/102 [00:00<00:00, 133.22it/s]\n"
     ]
    },
    {
     "name": "stdout",
     "output_type": "stream",
     "text": [
      "| Epoch 4 | Validate | loss 0.296619 | acc 0.918072 |!!!!!!!!!!!!!!!!!!!!!!!!!\n",
      "| Epoch 3 | New best validation loss: 0.2966 **********************\n"
     ]
    },
    {
     "name": "stderr",
     "output_type": "stream",
     "text": [
      "100%|██████████| 439/439 [00:09<00:00, 45.94it/s]\n"
     ]
    },
    {
     "name": "stdout",
     "output_type": "stream",
     "text": [
      "| Epoch 4 | Train | loss 0.164524 | acc 0.948630 |\n"
     ]
    },
    {
     "name": "stderr",
     "output_type": "stream",
     "text": [
      "100%|██████████| 102/102 [00:00<00:00, 133.81it/s]\n"
     ]
    },
    {
     "name": "stdout",
     "output_type": "stream",
     "text": [
      "| Epoch 4 | Validate | loss 0.279781 | acc 0.926288 |!!!!!!!!!!!!!!!!!!!!!!!!!\n",
      "| Epoch 4 | New best validation loss: 0.2798 **********************\n"
     ]
    },
    {
     "name": "stderr",
     "output_type": "stream",
     "text": [
      "100%|██████████| 439/439 [00:09<00:00, 45.85it/s]\n"
     ]
    },
    {
     "name": "stdout",
     "output_type": "stream",
     "text": [
      "| Epoch 5 | Train | loss 0.125059 | acc 0.960043 |\n"
     ]
    },
    {
     "name": "stderr",
     "output_type": "stream",
     "text": [
      "100%|██████████| 102/102 [00:00<00:00, 137.28it/s]\n"
     ]
    },
    {
     "name": "stdout",
     "output_type": "stream",
     "text": [
      "| Epoch 4 | Validate | loss 0.265290 | acc 0.929500 |!!!!!!!!!!!!!!!!!!!!!!!!!\n",
      "| Epoch 5 | New best validation loss: 0.2653 **********************\n"
     ]
    },
    {
     "name": "stderr",
     "output_type": "stream",
     "text": [
      "100%|██████████| 439/439 [00:09<00:00, 46.06it/s]\n"
     ]
    },
    {
     "name": "stdout",
     "output_type": "stream",
     "text": [
      "| Epoch 6 | Train | loss 0.097327 | acc 0.968466 |\n"
     ]
    },
    {
     "name": "stderr",
     "output_type": "stream",
     "text": [
      "100%|██████████| 102/102 [00:00<00:00, 136.03it/s]\n"
     ]
    },
    {
     "name": "stdout",
     "output_type": "stream",
     "text": [
      "| Epoch 4 | Validate | loss 0.266958 | acc 0.931214 |!!!!!!!!!!!!!!!!!!!!!!!!!\n"
     ]
    },
    {
     "name": "stderr",
     "output_type": "stream",
     "text": [
      "100%|██████████| 439/439 [00:09<00:00, 45.84it/s]\n"
     ]
    },
    {
     "name": "stdout",
     "output_type": "stream",
     "text": [
      "| Epoch 7 | Train | loss 0.079703 | acc 0.973539 |\n"
     ]
    },
    {
     "name": "stderr",
     "output_type": "stream",
     "text": [
      "100%|██████████| 102/102 [00:00<00:00, 134.05it/s]\n"
     ]
    },
    {
     "name": "stdout",
     "output_type": "stream",
     "text": [
      "| Epoch 4 | Validate | loss 0.252774 | acc 0.931214 |!!!!!!!!!!!!!!!!!!!!!!!!!\n",
      "| Epoch 7 | New best validation loss: 0.2528 **********************\n"
     ]
    },
    {
     "name": "stderr",
     "output_type": "stream",
     "text": [
      "100%|██████████| 439/439 [00:09<00:00, 45.23it/s]\n"
     ]
    },
    {
     "name": "stdout",
     "output_type": "stream",
     "text": [
      "| Epoch 8 | Train | loss 0.065476 | acc 0.977871 |\n"
     ]
    },
    {
     "name": "stderr",
     "output_type": "stream",
     "text": [
      "100%|██████████| 102/102 [00:00<00:00, 128.13it/s]\n"
     ]
    },
    {
     "name": "stdout",
     "output_type": "stream",
     "text": [
      "| Epoch 4 | Validate | loss 0.257309 | acc 0.931525 |!!!!!!!!!!!!!!!!!!!!!!!!!\n"
     ]
    },
    {
     "name": "stderr",
     "output_type": "stream",
     "text": [
      "100%|██████████| 439/439 [00:09<00:00, 46.10it/s]\n"
     ]
    },
    {
     "name": "stdout",
     "output_type": "stream",
     "text": [
      "| Epoch 9 | Train | loss 0.055611 | acc 0.981019 |\n"
     ]
    },
    {
     "name": "stderr",
     "output_type": "stream",
     "text": [
      "100%|██████████| 102/102 [00:00<00:00, 134.59it/s]\n",
      "\u001B[32m[I 2023-03-16 19:29:36,773]\u001B[0m Trial 18 finished with value: 0.2527739405632019 and parameters: {'embed_size': 256, 'num_heads': 4, 'hidden_size': 512, 'num_layers': 3, 'lr': 0.00015316298101827983}. Best is trial 15 with value: 0.23818016052246094.\u001B[0m\n"
     ]
    },
    {
     "name": "stdout",
     "output_type": "stream",
     "text": [
      "| Epoch 4 | Validate | loss 0.269272 | acc 0.933589 |!!!!!!!!!!!!!!!!!!!!!!!!!\n",
      "Early stopping triggered at epoch 9.\n",
      "Best epoch is: 7\n"
     ]
    },
    {
     "name": "stderr",
     "output_type": "stream",
     "text": [
      "100%|██████████| 439/439 [00:06<00:00, 71.97it/s]\n"
     ]
    },
    {
     "name": "stdout",
     "output_type": "stream",
     "text": [
      "| Epoch 1 | Train | loss 0.519505 | acc 0.864557 |\n"
     ]
    },
    {
     "name": "stderr",
     "output_type": "stream",
     "text": [
      "100%|██████████| 102/102 [00:00<00:00, 200.46it/s]\n"
     ]
    },
    {
     "name": "stdout",
     "output_type": "stream",
     "text": [
      "| Epoch 4 | Validate | loss 0.339141 | acc 0.904910 |!!!!!!!!!!!!!!!!!!!!!!!!!\n",
      "| Epoch 1 | New best validation loss: 0.3391 **********************\n"
     ]
    },
    {
     "name": "stderr",
     "output_type": "stream",
     "text": [
      "100%|██████████| 439/439 [00:06<00:00, 71.72it/s]\n"
     ]
    },
    {
     "name": "stdout",
     "output_type": "stream",
     "text": [
      "| Epoch 2 | Train | loss 0.237590 | acc 0.929614 |\n"
     ]
    },
    {
     "name": "stderr",
     "output_type": "stream",
     "text": [
      "100%|██████████| 102/102 [00:00<00:00, 200.78it/s]\n"
     ]
    },
    {
     "name": "stdout",
     "output_type": "stream",
     "text": [
      "| Epoch 4 | Validate | loss 0.282032 | acc 0.924127 |!!!!!!!!!!!!!!!!!!!!!!!!!\n",
      "| Epoch 2 | New best validation loss: 0.2820 **********************\n"
     ]
    },
    {
     "name": "stderr",
     "output_type": "stream",
     "text": [
      "100%|██████████| 439/439 [00:06<00:00, 71.56it/s]\n"
     ]
    },
    {
     "name": "stdout",
     "output_type": "stream",
     "text": [
      "| Epoch 3 | Train | loss 0.139633 | acc 0.956630 |\n"
     ]
    },
    {
     "name": "stderr",
     "output_type": "stream",
     "text": [
      "100%|██████████| 102/102 [00:00<00:00, 191.15it/s]\n"
     ]
    },
    {
     "name": "stdout",
     "output_type": "stream",
     "text": [
      "| Epoch 4 | Validate | loss 0.256947 | acc 0.927729 |!!!!!!!!!!!!!!!!!!!!!!!!!\n",
      "| Epoch 3 | New best validation loss: 0.2569 **********************\n"
     ]
    },
    {
     "name": "stderr",
     "output_type": "stream",
     "text": [
      "100%|██████████| 439/439 [00:06<00:00, 69.30it/s]\n"
     ]
    },
    {
     "name": "stdout",
     "output_type": "stream",
     "text": [
      "| Epoch 4 | Train | loss 0.094732 | acc 0.969394 |\n"
     ]
    },
    {
     "name": "stderr",
     "output_type": "stream",
     "text": [
      "100%|██████████| 102/102 [00:00<00:00, 194.14it/s]\n"
     ]
    },
    {
     "name": "stdout",
     "output_type": "stream",
     "text": [
      "| Epoch 4 | Validate | loss 0.283632 | acc 0.929948 |!!!!!!!!!!!!!!!!!!!!!!!!!\n"
     ]
    },
    {
     "name": "stderr",
     "output_type": "stream",
     "text": [
      "100%|██████████| 439/439 [00:06<00:00, 69.44it/s]\n"
     ]
    },
    {
     "name": "stdout",
     "output_type": "stream",
     "text": [
      "| Epoch 5 | Train | loss 0.069799 | acc 0.976913 |\n"
     ]
    },
    {
     "name": "stderr",
     "output_type": "stream",
     "text": [
      "100%|██████████| 102/102 [00:00<00:00, 193.62it/s]\n",
      "\u001B[32m[I 2023-03-16 19:30:10,434]\u001B[0m Trial 19 finished with value: 0.2569471597671509 and parameters: {'embed_size': 256, 'num_heads': 4, 'hidden_size': 128, 'num_layers': 2, 'lr': 0.00032816430696497886}. Best is trial 15 with value: 0.23818016052246094.\u001B[0m\n"
     ]
    },
    {
     "name": "stdout",
     "output_type": "stream",
     "text": [
      "| Epoch 4 | Validate | loss 0.288143 | acc 0.933297 |!!!!!!!!!!!!!!!!!!!!!!!!!\n",
      "Early stopping triggered at epoch 5.\n",
      "Best epoch is: 3\n"
     ]
    },
    {
     "name": "stderr",
     "output_type": "stream",
     "text": [
      "100%|██████████| 439/439 [00:09<00:00, 46.09it/s]\n"
     ]
    },
    {
     "name": "stdout",
     "output_type": "stream",
     "text": [
      "| Epoch 1 | Train | loss 0.597938 | acc 0.849382 |\n"
     ]
    },
    {
     "name": "stderr",
     "output_type": "stream",
     "text": [
      "100%|██████████| 102/102 [00:00<00:00, 136.45it/s]\n"
     ]
    },
    {
     "name": "stdout",
     "output_type": "stream",
     "text": [
      "| Epoch 4 | Validate | loss 0.409184 | acc 0.891048 |!!!!!!!!!!!!!!!!!!!!!!!!!\n",
      "| Epoch 1 | New best validation loss: 0.4092 **********************\n"
     ]
    },
    {
     "name": "stderr",
     "output_type": "stream",
     "text": [
      "100%|██████████| 439/439 [00:09<00:00, 46.10it/s]\n"
     ]
    },
    {
     "name": "stdout",
     "output_type": "stream",
     "text": [
      "| Epoch 2 | Train | loss 0.318246 | acc 0.906468 |\n"
     ]
    },
    {
     "name": "stderr",
     "output_type": "stream",
     "text": [
      "100%|██████████| 102/102 [00:00<00:00, 135.77it/s]\n"
     ]
    },
    {
     "name": "stdout",
     "output_type": "stream",
     "text": [
      "| Epoch 4 | Validate | loss 0.326429 | acc 0.914392 |!!!!!!!!!!!!!!!!!!!!!!!!!\n",
      "| Epoch 2 | New best validation loss: 0.3264 **********************\n"
     ]
    },
    {
     "name": "stderr",
     "output_type": "stream",
     "text": [
      "100%|██████████| 439/439 [00:09<00:00, 46.21it/s]\n"
     ]
    },
    {
     "name": "stdout",
     "output_type": "stream",
     "text": [
      "| Epoch 3 | Train | loss 0.208246 | acc 0.937069 |\n"
     ]
    },
    {
     "name": "stderr",
     "output_type": "stream",
     "text": [
      "100%|██████████| 102/102 [00:00<00:00, 133.45it/s]\n"
     ]
    },
    {
     "name": "stdout",
     "output_type": "stream",
     "text": [
      "| Epoch 4 | Validate | loss 0.286681 | acc 0.924341 |!!!!!!!!!!!!!!!!!!!!!!!!!\n",
      "| Epoch 3 | New best validation loss: 0.2867 **********************\n"
     ]
    },
    {
     "name": "stderr",
     "output_type": "stream",
     "text": [
      "100%|██████████| 439/439 [00:09<00:00, 46.22it/s]\n"
     ]
    },
    {
     "name": "stdout",
     "output_type": "stream",
     "text": [
      "| Epoch 4 | Train | loss 0.148435 | acc 0.953625 |\n"
     ]
    },
    {
     "name": "stderr",
     "output_type": "stream",
     "text": [
      "100%|██████████| 102/102 [00:00<00:00, 133.39it/s]\n"
     ]
    },
    {
     "name": "stdout",
     "output_type": "stream",
     "text": [
      "| Epoch 4 | Validate | loss 0.272900 | acc 0.929403 |!!!!!!!!!!!!!!!!!!!!!!!!!\n",
      "| Epoch 4 | New best validation loss: 0.2729 **********************\n"
     ]
    },
    {
     "name": "stderr",
     "output_type": "stream",
     "text": [
      "100%|██████████| 439/439 [00:09<00:00, 46.05it/s]\n"
     ]
    },
    {
     "name": "stdout",
     "output_type": "stream",
     "text": [
      "| Epoch 5 | Train | loss 0.111794 | acc 0.964380 |\n"
     ]
    },
    {
     "name": "stderr",
     "output_type": "stream",
     "text": [
      "100%|██████████| 102/102 [00:00<00:00, 136.08it/s]\n"
     ]
    },
    {
     "name": "stdout",
     "output_type": "stream",
     "text": [
      "| Epoch 4 | Validate | loss 0.261877 | acc 0.931486 |!!!!!!!!!!!!!!!!!!!!!!!!!\n",
      "| Epoch 5 | New best validation loss: 0.2619 **********************\n"
     ]
    },
    {
     "name": "stderr",
     "output_type": "stream",
     "text": [
      "100%|██████████| 439/439 [00:09<00:00, 46.29it/s]\n"
     ]
    },
    {
     "name": "stdout",
     "output_type": "stream",
     "text": [
      "| Epoch 6 | Train | loss 0.087167 | acc 0.971697 |\n"
     ]
    },
    {
     "name": "stderr",
     "output_type": "stream",
     "text": [
      "100%|██████████| 102/102 [00:00<00:00, 136.21it/s]\n"
     ]
    },
    {
     "name": "stdout",
     "output_type": "stream",
     "text": [
      "| Epoch 4 | Validate | loss 0.272306 | acc 0.932869 |!!!!!!!!!!!!!!!!!!!!!!!!!\n"
     ]
    },
    {
     "name": "stderr",
     "output_type": "stream",
     "text": [
      "100%|██████████| 439/439 [00:09<00:00, 46.05it/s]\n"
     ]
    },
    {
     "name": "stdout",
     "output_type": "stream",
     "text": [
      "| Epoch 7 | Train | loss 0.069760 | acc 0.976933 |\n"
     ]
    },
    {
     "name": "stderr",
     "output_type": "stream",
     "text": [
      "100%|██████████| 102/102 [00:00<00:00, 133.12it/s]\n",
      "\u001B[32m[I 2023-03-16 19:31:22,428]\u001B[0m Trial 20 finished with value: 0.26187664270401 and parameters: {'embed_size': 256, 'num_heads': 4, 'hidden_size': 512, 'num_layers': 3, 'lr': 0.00017768413750430086}. Best is trial 15 with value: 0.23818016052246094.\u001B[0m\n"
     ]
    },
    {
     "name": "stdout",
     "output_type": "stream",
     "text": [
      "| Epoch 4 | Validate | loss 0.273753 | acc 0.933141 |!!!!!!!!!!!!!!!!!!!!!!!!!\n",
      "Early stopping triggered at epoch 7.\n",
      "Best epoch is: 5\n"
     ]
    },
    {
     "name": "stderr",
     "output_type": "stream",
     "text": [
      "100%|██████████| 439/439 [00:17<00:00, 25.16it/s]\n"
     ]
    },
    {
     "name": "stdout",
     "output_type": "stream",
     "text": [
      "| Epoch 1 | Train | loss 0.462796 | acc 0.881849 |\n"
     ]
    },
    {
     "name": "stderr",
     "output_type": "stream",
     "text": [
      "100%|██████████| 102/102 [00:01<00:00, 78.58it/s]\n"
     ]
    },
    {
     "name": "stdout",
     "output_type": "stream",
     "text": [
      "| Epoch 4 | Validate | loss 0.293514 | acc 0.917877 |!!!!!!!!!!!!!!!!!!!!!!!!!\n",
      "| Epoch 1 | New best validation loss: 0.2935 **********************\n"
     ]
    },
    {
     "name": "stderr",
     "output_type": "stream",
     "text": [
      "100%|██████████| 439/439 [00:17<00:00, 25.13it/s]\n"
     ]
    },
    {
     "name": "stdout",
     "output_type": "stream",
     "text": [
      "| Epoch 2 | Train | loss 0.164377 | acc 0.950894 |\n"
     ]
    },
    {
     "name": "stderr",
     "output_type": "stream",
     "text": [
      "100%|██████████| 102/102 [00:01<00:00, 78.51it/s]\n"
     ]
    },
    {
     "name": "stdout",
     "output_type": "stream",
     "text": [
      "| Epoch 4 | Validate | loss 0.258461 | acc 0.932849 |!!!!!!!!!!!!!!!!!!!!!!!!!\n",
      "| Epoch 2 | New best validation loss: 0.2585 **********************\n"
     ]
    },
    {
     "name": "stderr",
     "output_type": "stream",
     "text": [
      "100%|██████████| 439/439 [00:17<00:00, 25.16it/s]\n"
     ]
    },
    {
     "name": "stdout",
     "output_type": "stream",
     "text": [
      "| Epoch 3 | Train | loss 0.099498 | acc 0.969139 |\n"
     ]
    },
    {
     "name": "stderr",
     "output_type": "stream",
     "text": [
      "100%|██████████| 102/102 [00:01<00:00, 79.12it/s]\n"
     ]
    },
    {
     "name": "stdout",
     "output_type": "stream",
     "text": [
      "| Epoch 4 | Validate | loss 0.258447 | acc 0.932674 |!!!!!!!!!!!!!!!!!!!!!!!!!\n",
      "| Epoch 3 | New best validation loss: 0.2584 **********************\n"
     ]
    },
    {
     "name": "stderr",
     "output_type": "stream",
     "text": [
      "100%|██████████| 439/439 [00:17<00:00, 25.18it/s]\n"
     ]
    },
    {
     "name": "stdout",
     "output_type": "stream",
     "text": [
      "| Epoch 4 | Train | loss 0.075649 | acc 0.975376 |\n"
     ]
    },
    {
     "name": "stderr",
     "output_type": "stream",
     "text": [
      "100%|██████████| 102/102 [00:01<00:00, 79.67it/s]\n"
     ]
    },
    {
     "name": "stdout",
     "output_type": "stream",
     "text": [
      "| Epoch 4 | Validate | loss 0.268111 | acc 0.933940 |!!!!!!!!!!!!!!!!!!!!!!!!!\n"
     ]
    },
    {
     "name": "stderr",
     "output_type": "stream",
     "text": [
      "100%|██████████| 439/439 [00:17<00:00, 25.16it/s]\n"
     ]
    },
    {
     "name": "stdout",
     "output_type": "stream",
     "text": [
      "| Epoch 5 | Train | loss 0.063918 | acc 0.978995 |\n"
     ]
    },
    {
     "name": "stderr",
     "output_type": "stream",
     "text": [
      "100%|██████████| 102/102 [00:01<00:00, 79.66it/s]\n",
      "\u001B[32m[I 2023-03-16 19:32:56,252]\u001B[0m Trial 21 finished with value: 0.2584473490715027 and parameters: {'embed_size': 512, 'num_heads': 8, 'hidden_size': 256, 'num_layers': 3, 'lr': 0.000491270685555596}. Best is trial 15 with value: 0.23818016052246094.\u001B[0m\n"
     ]
    },
    {
     "name": "stdout",
     "output_type": "stream",
     "text": [
      "| Epoch 4 | Validate | loss 0.275613 | acc 0.934290 |!!!!!!!!!!!!!!!!!!!!!!!!!\n",
      "Early stopping triggered at epoch 5.\n",
      "Best epoch is: 3\n"
     ]
    },
    {
     "name": "stderr",
     "output_type": "stream",
     "text": [
      "100%|██████████| 439/439 [00:16<00:00, 26.03it/s]\n"
     ]
    },
    {
     "name": "stdout",
     "output_type": "stream",
     "text": [
      "| Epoch 1 | Train | loss 0.456116 | acc 0.879703 |\n"
     ]
    },
    {
     "name": "stderr",
     "output_type": "stream",
     "text": [
      "100%|██████████| 102/102 [00:01<00:00, 82.65it/s]\n"
     ]
    },
    {
     "name": "stdout",
     "output_type": "stream",
     "text": [
      "| Epoch 4 | Validate | loss 0.313292 | acc 0.917604 |!!!!!!!!!!!!!!!!!!!!!!!!!\n",
      "| Epoch 1 | New best validation loss: 0.3133 **********************\n"
     ]
    },
    {
     "name": "stderr",
     "output_type": "stream",
     "text": [
      "100%|██████████| 439/439 [00:16<00:00, 26.29it/s]\n"
     ]
    },
    {
     "name": "stdout",
     "output_type": "stream",
     "text": [
      "| Epoch 2 | Train | loss 0.172696 | acc 0.948586 |\n"
     ]
    },
    {
     "name": "stderr",
     "output_type": "stream",
     "text": [
      "100%|██████████| 102/102 [00:01<00:00, 81.63it/s]\n"
     ]
    },
    {
     "name": "stdout",
     "output_type": "stream",
     "text": [
      "| Epoch 4 | Validate | loss 0.268540 | acc 0.929520 |!!!!!!!!!!!!!!!!!!!!!!!!!\n",
      "| Epoch 2 | New best validation loss: 0.2685 **********************\n"
     ]
    },
    {
     "name": "stderr",
     "output_type": "stream",
     "text": [
      "100%|██████████| 439/439 [00:16<00:00, 26.27it/s]\n"
     ]
    },
    {
     "name": "stdout",
     "output_type": "stream",
     "text": [
      "| Epoch 3 | Train | loss 0.100262 | acc 0.968245 |\n"
     ]
    },
    {
     "name": "stderr",
     "output_type": "stream",
     "text": [
      "100%|██████████| 102/102 [00:01<00:00, 82.27it/s]\n"
     ]
    },
    {
     "name": "stdout",
     "output_type": "stream",
     "text": [
      "| Epoch 4 | Validate | loss 0.263698 | acc 0.935555 |!!!!!!!!!!!!!!!!!!!!!!!!!\n",
      "| Epoch 3 | New best validation loss: 0.2637 **********************\n"
     ]
    },
    {
     "name": "stderr",
     "output_type": "stream",
     "text": [
      "100%|██████████| 439/439 [00:16<00:00, 26.27it/s]\n"
     ]
    },
    {
     "name": "stdout",
     "output_type": "stream",
     "text": [
      "| Epoch 4 | Train | loss 0.071946 | acc 0.976574 |\n"
     ]
    },
    {
     "name": "stderr",
     "output_type": "stream",
     "text": [
      "100%|██████████| 102/102 [00:01<00:00, 83.16it/s]\n"
     ]
    },
    {
     "name": "stdout",
     "output_type": "stream",
     "text": [
      "| Epoch 4 | Validate | loss 0.298925 | acc 0.935263 |!!!!!!!!!!!!!!!!!!!!!!!!!\n"
     ]
    },
    {
     "name": "stderr",
     "output_type": "stream",
     "text": [
      "100%|██████████| 439/439 [00:16<00:00, 26.27it/s]\n"
     ]
    },
    {
     "name": "stdout",
     "output_type": "stream",
     "text": [
      "| Epoch 5 | Train | loss 0.056561 | acc 0.981294 |\n"
     ]
    },
    {
     "name": "stderr",
     "output_type": "stream",
     "text": [
      "100%|██████████| 102/102 [00:01<00:00, 83.12it/s]\n",
      "\u001B[32m[I 2023-03-16 19:34:26,242]\u001B[0m Trial 22 finished with value: 0.26369842886924744 and parameters: {'embed_size': 512, 'num_heads': 4, 'hidden_size': 256, 'num_layers': 3, 'lr': 0.00039760896970047707}. Best is trial 15 with value: 0.23818016052246094.\u001B[0m\n"
     ]
    },
    {
     "name": "stdout",
     "output_type": "stream",
     "text": [
      "| Epoch 4 | Validate | loss 0.277697 | acc 0.935517 |!!!!!!!!!!!!!!!!!!!!!!!!!\n",
      "Early stopping triggered at epoch 5.\n",
      "Best epoch is: 3\n"
     ]
    },
    {
     "name": "stderr",
     "output_type": "stream",
     "text": [
      "100%|██████████| 439/439 [00:04<00:00, 89.24it/s]\n"
     ]
    },
    {
     "name": "stdout",
     "output_type": "stream",
     "text": [
      "| Epoch 1 | Train | loss 0.532205 | acc 0.862303 |\n"
     ]
    },
    {
     "name": "stderr",
     "output_type": "stream",
     "text": [
      "100%|██████████| 102/102 [00:00<00:00, 220.09it/s]\n"
     ]
    },
    {
     "name": "stdout",
     "output_type": "stream",
     "text": [
      "| Epoch 4 | Validate | loss 0.339167 | acc 0.903547 |!!!!!!!!!!!!!!!!!!!!!!!!!\n",
      "| Epoch 1 | New best validation loss: 0.3392 **********************\n"
     ]
    },
    {
     "name": "stderr",
     "output_type": "stream",
     "text": [
      "100%|██████████| 439/439 [00:04<00:00, 88.77it/s]\n"
     ]
    },
    {
     "name": "stdout",
     "output_type": "stream",
     "text": [
      "| Epoch 2 | Train | loss 0.259917 | acc 0.923849 |\n"
     ]
    },
    {
     "name": "stderr",
     "output_type": "stream",
     "text": [
      "100%|██████████| 102/102 [00:00<00:00, 219.71it/s]\n"
     ]
    },
    {
     "name": "stdout",
     "output_type": "stream",
     "text": [
      "| Epoch 4 | Validate | loss 0.276517 | acc 0.921868 |!!!!!!!!!!!!!!!!!!!!!!!!!\n",
      "| Epoch 2 | New best validation loss: 0.2765 **********************\n"
     ]
    },
    {
     "name": "stderr",
     "output_type": "stream",
     "text": [
      "100%|██████████| 439/439 [00:04<00:00, 88.79it/s]\n"
     ]
    },
    {
     "name": "stdout",
     "output_type": "stream",
     "text": [
      "| Epoch 3 | Train | loss 0.160868 | acc 0.951154 |\n"
     ]
    },
    {
     "name": "stderr",
     "output_type": "stream",
     "text": [
      "100%|██████████| 102/102 [00:00<00:00, 225.16it/s]\n"
     ]
    },
    {
     "name": "stdout",
     "output_type": "stream",
     "text": [
      "| Epoch 4 | Validate | loss 0.265726 | acc 0.928955 |!!!!!!!!!!!!!!!!!!!!!!!!!\n",
      "| Epoch 3 | New best validation loss: 0.2657 **********************\n"
     ]
    },
    {
     "name": "stderr",
     "output_type": "stream",
     "text": [
      "100%|██████████| 439/439 [00:04<00:00, 89.17it/s]\n"
     ]
    },
    {
     "name": "stdout",
     "output_type": "stream",
     "text": [
      "| Epoch 4 | Train | loss 0.112786 | acc 0.964321 |\n"
     ]
    },
    {
     "name": "stderr",
     "output_type": "stream",
     "text": [
      "100%|██████████| 102/102 [00:00<00:00, 218.91it/s]\n"
     ]
    },
    {
     "name": "stdout",
     "output_type": "stream",
     "text": [
      "| Epoch 4 | Validate | loss 0.275543 | acc 0.932421 |!!!!!!!!!!!!!!!!!!!!!!!!!\n"
     ]
    },
    {
     "name": "stderr",
     "output_type": "stream",
     "text": [
      "100%|██████████| 439/439 [00:04<00:00, 89.20it/s]\n"
     ]
    },
    {
     "name": "stdout",
     "output_type": "stream",
     "text": [
      "| Epoch 5 | Train | loss 0.083377 | acc 0.973225 |\n"
     ]
    },
    {
     "name": "stderr",
     "output_type": "stream",
     "text": [
      "100%|██████████| 102/102 [00:00<00:00, 226.47it/s]\n",
      "\u001B[32m[I 2023-03-16 19:34:53,224]\u001B[0m Trial 23 finished with value: 0.265726238489151 and parameters: {'embed_size': 128, 'num_heads': 8, 'hidden_size': 256, 'num_layers': 2, 'lr': 0.0005653628827193151}. Best is trial 15 with value: 0.23818016052246094.\u001B[0m\n"
     ]
    },
    {
     "name": "stdout",
     "output_type": "stream",
     "text": [
      "| Epoch 4 | Validate | loss 0.298846 | acc 0.932362 |!!!!!!!!!!!!!!!!!!!!!!!!!\n",
      "Early stopping triggered at epoch 5.\n",
      "Best epoch is: 3\n"
     ]
    },
    {
     "name": "stderr",
     "output_type": "stream",
     "text": [
      "100%|██████████| 439/439 [00:21<00:00, 20.76it/s]\n"
     ]
    },
    {
     "name": "stdout",
     "output_type": "stream",
     "text": [
      "| Epoch 1 | Train | loss 0.561393 | acc 0.858600 |\n"
     ]
    },
    {
     "name": "stderr",
     "output_type": "stream",
     "text": [
      "100%|██████████| 102/102 [00:01<00:00, 65.51it/s]\n"
     ]
    },
    {
     "name": "stdout",
     "output_type": "stream",
     "text": [
      "| Epoch 4 | Validate | loss 0.385062 | acc 0.905300 |!!!!!!!!!!!!!!!!!!!!!!!!!\n",
      "| Epoch 1 | New best validation loss: 0.3851 **********************\n"
     ]
    },
    {
     "name": "stderr",
     "output_type": "stream",
     "text": [
      "100%|██████████| 439/439 [00:21<00:00, 20.77it/s]\n"
     ]
    },
    {
     "name": "stdout",
     "output_type": "stream",
     "text": [
      "| Epoch 2 | Train | loss 0.225705 | acc 0.932183 |\n"
     ]
    },
    {
     "name": "stderr",
     "output_type": "stream",
     "text": [
      "100%|██████████| 102/102 [00:01<00:00, 64.84it/s]\n"
     ]
    },
    {
     "name": "stdout",
     "output_type": "stream",
     "text": [
      "| Epoch 4 | Validate | loss 0.281786 | acc 0.928352 |!!!!!!!!!!!!!!!!!!!!!!!!!\n",
      "| Epoch 2 | New best validation loss: 0.2818 **********************\n"
     ]
    },
    {
     "name": "stderr",
     "output_type": "stream",
     "text": [
      "100%|██████████| 439/439 [00:21<00:00, 20.76it/s]\n"
     ]
    },
    {
     "name": "stdout",
     "output_type": "stream",
     "text": [
      "| Epoch 3 | Train | loss 0.140755 | acc 0.957598 |\n"
     ]
    },
    {
     "name": "stderr",
     "output_type": "stream",
     "text": [
      "100%|██████████| 102/102 [00:01<00:00, 64.95it/s]\n"
     ]
    },
    {
     "name": "stdout",
     "output_type": "stream",
     "text": [
      "| Epoch 4 | Validate | loss 0.259125 | acc 0.930357 |!!!!!!!!!!!!!!!!!!!!!!!!!\n",
      "| Epoch 3 | New best validation loss: 0.2591 **********************\n"
     ]
    },
    {
     "name": "stderr",
     "output_type": "stream",
     "text": [
      "100%|██████████| 439/439 [00:21<00:00, 20.75it/s]\n"
     ]
    },
    {
     "name": "stdout",
     "output_type": "stream",
     "text": [
      "| Epoch 4 | Train | loss 0.106460 | acc 0.967017 |\n"
     ]
    },
    {
     "name": "stderr",
     "output_type": "stream",
     "text": [
      "100%|██████████| 102/102 [00:01<00:00, 65.49it/s]\n"
     ]
    },
    {
     "name": "stdout",
     "output_type": "stream",
     "text": [
      "| Epoch 4 | Validate | loss 0.273406 | acc 0.932635 |!!!!!!!!!!!!!!!!!!!!!!!!!\n"
     ]
    },
    {
     "name": "stderr",
     "output_type": "stream",
     "text": [
      "100%|██████████| 439/439 [00:21<00:00, 20.76it/s]\n"
     ]
    },
    {
     "name": "stdout",
     "output_type": "stream",
     "text": [
      "| Epoch 5 | Train | loss 0.090156 | acc 0.972331 |\n"
     ]
    },
    {
     "name": "stderr",
     "output_type": "stream",
     "text": [
      "100%|██████████| 102/102 [00:01<00:00, 65.71it/s]\n",
      "\u001B[32m[I 2023-03-16 19:36:46,900]\u001B[0m Trial 24 finished with value: 0.25912490487098694 and parameters: {'embed_size': 512, 'num_heads': 4, 'hidden_size': 256, 'num_layers': 4, 'lr': 0.00044759153063910097}. Best is trial 15 with value: 0.23818016052246094.\u001B[0m\n"
     ]
    },
    {
     "name": "stdout",
     "output_type": "stream",
     "text": [
      "| Epoch 4 | Validate | loss 0.312463 | acc 0.932304 |!!!!!!!!!!!!!!!!!!!!!!!!!\n",
      "Early stopping triggered at epoch 5.\n",
      "Best epoch is: 3\n"
     ]
    },
    {
     "name": "stderr",
     "output_type": "stream",
     "text": [
      "100%|██████████| 439/439 [00:09<00:00, 46.36it/s]\n"
     ]
    },
    {
     "name": "stdout",
     "output_type": "stream",
     "text": [
      "| Epoch 1 | Train | loss 0.565234 | acc 0.856626 |\n"
     ]
    },
    {
     "name": "stderr",
     "output_type": "stream",
     "text": [
      "100%|██████████| 102/102 [00:00<00:00, 133.88it/s]\n"
     ]
    },
    {
     "name": "stdout",
     "output_type": "stream",
     "text": [
      "| Epoch 4 | Validate | loss 0.350831 | acc 0.902749 |!!!!!!!!!!!!!!!!!!!!!!!!!\n",
      "| Epoch 1 | New best validation loss: 0.3508 **********************\n"
     ]
    },
    {
     "name": "stderr",
     "output_type": "stream",
     "text": [
      "100%|██████████| 439/439 [00:09<00:00, 46.42it/s]\n"
     ]
    },
    {
     "name": "stdout",
     "output_type": "stream",
     "text": [
      "| Epoch 2 | Train | loss 0.264232 | acc 0.921423 |\n"
     ]
    },
    {
     "name": "stderr",
     "output_type": "stream",
     "text": [
      "100%|██████████| 102/102 [00:00<00:00, 136.20it/s]\n"
     ]
    },
    {
     "name": "stdout",
     "output_type": "stream",
     "text": [
      "| Epoch 4 | Validate | loss 0.295738 | acc 0.922219 |!!!!!!!!!!!!!!!!!!!!!!!!!\n",
      "| Epoch 2 | New best validation loss: 0.2957 **********************\n"
     ]
    },
    {
     "name": "stderr",
     "output_type": "stream",
     "text": [
      "100%|██████████| 439/439 [00:09<00:00, 46.37it/s]\n"
     ]
    },
    {
     "name": "stdout",
     "output_type": "stream",
     "text": [
      "| Epoch 3 | Train | loss 0.160637 | acc 0.950511 |\n"
     ]
    },
    {
     "name": "stderr",
     "output_type": "stream",
     "text": [
      "100%|██████████| 102/102 [00:00<00:00, 135.81it/s]\n"
     ]
    },
    {
     "name": "stdout",
     "output_type": "stream",
     "text": [
      "| Epoch 4 | Validate | loss 0.258126 | acc 0.928332 |!!!!!!!!!!!!!!!!!!!!!!!!!\n",
      "| Epoch 3 | New best validation loss: 0.2581 **********************\n"
     ]
    },
    {
     "name": "stderr",
     "output_type": "stream",
     "text": [
      "100%|██████████| 439/439 [00:09<00:00, 46.38it/s]\n"
     ]
    },
    {
     "name": "stdout",
     "output_type": "stream",
     "text": [
      "| Epoch 4 | Train | loss 0.109126 | acc 0.965897 |\n"
     ]
    },
    {
     "name": "stderr",
     "output_type": "stream",
     "text": [
      "100%|██████████| 102/102 [00:00<00:00, 135.22it/s]\n"
     ]
    },
    {
     "name": "stdout",
     "output_type": "stream",
     "text": [
      "| Epoch 4 | Validate | loss 0.252187 | acc 0.931506 |!!!!!!!!!!!!!!!!!!!!!!!!!\n",
      "| Epoch 4 | New best validation loss: 0.2522 **********************\n"
     ]
    },
    {
     "name": "stderr",
     "output_type": "stream",
     "text": [
      "100%|██████████| 439/439 [00:09<00:00, 46.37it/s]\n"
     ]
    },
    {
     "name": "stdout",
     "output_type": "stream",
     "text": [
      "| Epoch 5 | Train | loss 0.081098 | acc 0.973770 |\n"
     ]
    },
    {
     "name": "stderr",
     "output_type": "stream",
     "text": [
      "100%|██████████| 102/102 [00:00<00:00, 133.27it/s]\n"
     ]
    },
    {
     "name": "stdout",
     "output_type": "stream",
     "text": [
      "| Epoch 4 | Validate | loss 0.250334 | acc 0.932966 |!!!!!!!!!!!!!!!!!!!!!!!!!\n",
      "| Epoch 5 | New best validation loss: 0.2503 **********************\n"
     ]
    },
    {
     "name": "stderr",
     "output_type": "stream",
     "text": [
      "100%|██████████| 439/439 [00:09<00:00, 46.33it/s]\n"
     ]
    },
    {
     "name": "stdout",
     "output_type": "stream",
     "text": [
      "| Epoch 6 | Train | loss 0.063779 | acc 0.978548 |\n"
     ]
    },
    {
     "name": "stderr",
     "output_type": "stream",
     "text": [
      "100%|██████████| 102/102 [00:00<00:00, 134.57it/s]\n"
     ]
    },
    {
     "name": "stdout",
     "output_type": "stream",
     "text": [
      "| Epoch 4 | Validate | loss 0.261967 | acc 0.936217 |!!!!!!!!!!!!!!!!!!!!!!!!!\n"
     ]
    },
    {
     "name": "stderr",
     "output_type": "stream",
     "text": [
      "100%|██████████| 439/439 [00:09<00:00, 46.21it/s]\n"
     ]
    },
    {
     "name": "stdout",
     "output_type": "stream",
     "text": [
      "| Epoch 7 | Train | loss 0.051799 | acc 0.982703 |\n"
     ]
    },
    {
     "name": "stderr",
     "output_type": "stream",
     "text": [
      "100%|██████████| 102/102 [00:00<00:00, 133.48it/s]\n",
      "\u001B[32m[I 2023-03-16 19:37:58,602]\u001B[0m Trial 25 finished with value: 0.2503337860107422 and parameters: {'embed_size': 256, 'num_heads': 8, 'hidden_size': 256, 'num_layers': 3, 'lr': 0.00028890514549803544}. Best is trial 15 with value: 0.23818016052246094.\u001B[0m\n"
     ]
    },
    {
     "name": "stdout",
     "output_type": "stream",
     "text": [
      "| Epoch 4 | Validate | loss 0.267450 | acc 0.934835 |!!!!!!!!!!!!!!!!!!!!!!!!!\n",
      "Early stopping triggered at epoch 7.\n",
      "Best epoch is: 5\n"
     ]
    },
    {
     "name": "stderr",
     "output_type": "stream",
     "text": [
      "100%|██████████| 439/439 [00:12<00:00, 36.27it/s]\n"
     ]
    },
    {
     "name": "stdout",
     "output_type": "stream",
     "text": [
      "| Epoch 1 | Train | loss 0.423840 | acc 0.886971 |\n"
     ]
    },
    {
     "name": "stderr",
     "output_type": "stream",
     "text": [
      "100%|██████████| 102/102 [00:00<00:00, 112.02it/s]\n"
     ]
    },
    {
     "name": "stdout",
     "output_type": "stream",
     "text": [
      "| Epoch 4 | Validate | loss 0.302407 | acc 0.917293 |!!!!!!!!!!!!!!!!!!!!!!!!!\n",
      "| Epoch 1 | New best validation loss: 0.3024 **********************\n"
     ]
    },
    {
     "name": "stderr",
     "output_type": "stream",
     "text": [
      "100%|██████████| 439/439 [00:12<00:00, 36.26it/s]\n"
     ]
    },
    {
     "name": "stdout",
     "output_type": "stream",
     "text": [
      "| Epoch 2 | Train | loss 0.157572 | acc 0.951891 |\n"
     ]
    },
    {
     "name": "stderr",
     "output_type": "stream",
     "text": [
      "100%|██████████| 102/102 [00:00<00:00, 113.27it/s]\n"
     ]
    },
    {
     "name": "stdout",
     "output_type": "stream",
     "text": [
      "| Epoch 4 | Validate | loss 0.257586 | acc 0.930591 |!!!!!!!!!!!!!!!!!!!!!!!!!\n",
      "| Epoch 2 | New best validation loss: 0.2576 **********************\n"
     ]
    },
    {
     "name": "stderr",
     "output_type": "stream",
     "text": [
      "100%|██████████| 439/439 [00:12<00:00, 36.25it/s]\n"
     ]
    },
    {
     "name": "stdout",
     "output_type": "stream",
     "text": [
      "| Epoch 3 | Train | loss 0.084565 | acc 0.973185 |\n"
     ]
    },
    {
     "name": "stderr",
     "output_type": "stream",
     "text": [
      "100%|██████████| 102/102 [00:00<00:00, 110.79it/s]\n"
     ]
    },
    {
     "name": "stdout",
     "output_type": "stream",
     "text": [
      "| Epoch 4 | Validate | loss 0.277166 | acc 0.931837 |!!!!!!!!!!!!!!!!!!!!!!!!!\n"
     ]
    },
    {
     "name": "stderr",
     "output_type": "stream",
     "text": [
      "100%|██████████| 439/439 [00:12<00:00, 36.24it/s]\n"
     ]
    },
    {
     "name": "stdout",
     "output_type": "stream",
     "text": [
      "| Epoch 4 | Train | loss 0.058068 | acc 0.980807 |\n"
     ]
    },
    {
     "name": "stderr",
     "output_type": "stream",
     "text": [
      "100%|██████████| 102/102 [00:00<00:00, 111.73it/s]\n",
      "\u001B[32m[I 2023-03-16 19:38:50,792]\u001B[0m Trial 26 finished with value: 0.25758594274520874 and parameters: {'embed_size': 512, 'num_heads': 4, 'hidden_size': 256, 'num_layers': 2, 'lr': 0.0003521368282502649}. Best is trial 15 with value: 0.23818016052246094.\u001B[0m\n"
     ]
    },
    {
     "name": "stdout",
     "output_type": "stream",
     "text": [
      "| Epoch 4 | Validate | loss 0.295298 | acc 0.934309 |!!!!!!!!!!!!!!!!!!!!!!!!!\n",
      "Early stopping triggered at epoch 4.\n",
      "Best epoch is: 2\n"
     ]
    },
    {
     "name": "stderr",
     "output_type": "stream",
     "text": [
      "100%|██████████| 439/439 [00:05<00:00, 73.74it/s]\n"
     ]
    },
    {
     "name": "stdout",
     "output_type": "stream",
     "text": [
      "| Epoch 1 | Train | loss 0.560826 | acc 0.855010 |\n"
     ]
    },
    {
     "name": "stderr",
     "output_type": "stream",
     "text": [
      "100%|██████████| 102/102 [00:00<00:00, 211.19it/s]\n"
     ]
    },
    {
     "name": "stdout",
     "output_type": "stream",
     "text": [
      "| Epoch 4 | Validate | loss 0.392518 | acc 0.895623 |!!!!!!!!!!!!!!!!!!!!!!!!!\n",
      "| Epoch 1 | New best validation loss: 0.3925 **********************\n"
     ]
    },
    {
     "name": "stderr",
     "output_type": "stream",
     "text": [
      "100%|██████████| 439/439 [00:05<00:00, 76.34it/s]\n"
     ]
    },
    {
     "name": "stdout",
     "output_type": "stream",
     "text": [
      "| Epoch 2 | Train | loss 0.267383 | acc 0.919660 |\n"
     ]
    },
    {
     "name": "stderr",
     "output_type": "stream",
     "text": [
      "100%|██████████| 102/102 [00:00<00:00, 204.00it/s]\n"
     ]
    },
    {
     "name": "stdout",
     "output_type": "stream",
     "text": [
      "| Epoch 4 | Validate | loss 0.288470 | acc 0.918967 |!!!!!!!!!!!!!!!!!!!!!!!!!\n",
      "| Epoch 2 | New best validation loss: 0.2885 **********************\n"
     ]
    },
    {
     "name": "stderr",
     "output_type": "stream",
     "text": [
      "100%|██████████| 439/439 [00:05<00:00, 78.45it/s]\n"
     ]
    },
    {
     "name": "stdout",
     "output_type": "stream",
     "text": [
      "| Epoch 3 | Train | loss 0.166562 | acc 0.949131 |\n"
     ]
    },
    {
     "name": "stderr",
     "output_type": "stream",
     "text": [
      "100%|██████████| 102/102 [00:00<00:00, 208.24it/s]\n"
     ]
    },
    {
     "name": "stdout",
     "output_type": "stream",
     "text": [
      "| Epoch 4 | Validate | loss 0.257966 | acc 0.928157 |!!!!!!!!!!!!!!!!!!!!!!!!!\n",
      "| Epoch 3 | New best validation loss: 0.2580 **********************\n"
     ]
    },
    {
     "name": "stderr",
     "output_type": "stream",
     "text": [
      "100%|██████████| 439/439 [00:05<00:00, 77.00it/s]\n"
     ]
    },
    {
     "name": "stdout",
     "output_type": "stream",
     "text": [
      "| Epoch 4 | Train | loss 0.117744 | acc 0.963162 |\n"
     ]
    },
    {
     "name": "stderr",
     "output_type": "stream",
     "text": [
      "100%|██████████| 102/102 [00:00<00:00, 207.73it/s]\n"
     ]
    },
    {
     "name": "stdout",
     "output_type": "stream",
     "text": [
      "| Epoch 4 | Validate | loss 0.263512 | acc 0.932635 |!!!!!!!!!!!!!!!!!!!!!!!!!\n"
     ]
    },
    {
     "name": "stderr",
     "output_type": "stream",
     "text": [
      "100%|██████████| 439/439 [00:05<00:00, 77.07it/s]\n"
     ]
    },
    {
     "name": "stdout",
     "output_type": "stream",
     "text": [
      "| Epoch 5 | Train | loss 0.091973 | acc 0.970725 |\n"
     ]
    },
    {
     "name": "stderr",
     "output_type": "stream",
     "text": [
      "100%|██████████| 102/102 [00:00<00:00, 212.91it/s]\n"
     ]
    },
    {
     "name": "stdout",
     "output_type": "stream",
     "text": [
      "| Epoch 4 | Validate | loss 0.252870 | acc 0.934718 |!!!!!!!!!!!!!!!!!!!!!!!!!\n",
      "| Epoch 5 | New best validation loss: 0.2529 **********************\n"
     ]
    },
    {
     "name": "stderr",
     "output_type": "stream",
     "text": [
      "100%|██████████| 439/439 [00:05<00:00, 79.20it/s]\n"
     ]
    },
    {
     "name": "stdout",
     "output_type": "stream",
     "text": [
      "| Epoch 6 | Train | loss 0.073308 | acc 0.976093 |\n"
     ]
    },
    {
     "name": "stderr",
     "output_type": "stream",
     "text": [
      "100%|██████████| 102/102 [00:00<00:00, 212.30it/s]\n"
     ]
    },
    {
     "name": "stdout",
     "output_type": "stream",
     "text": [
      "| Epoch 4 | Validate | loss 0.258185 | acc 0.934426 |!!!!!!!!!!!!!!!!!!!!!!!!!\n"
     ]
    },
    {
     "name": "stderr",
     "output_type": "stream",
     "text": [
      "100%|██████████| 439/439 [00:05<00:00, 76.87it/s]\n"
     ]
    },
    {
     "name": "stdout",
     "output_type": "stream",
     "text": [
      "| Epoch 7 | Train | loss 0.062273 | acc 0.979285 |\n"
     ]
    },
    {
     "name": "stderr",
     "output_type": "stream",
     "text": [
      "100%|██████████| 102/102 [00:00<00:00, 203.12it/s]\n",
      "\u001B[32m[I 2023-03-16 19:39:34,278]\u001B[0m Trial 27 finished with value: 0.2528698146343231 and parameters: {'embed_size': 128, 'num_heads': 2, 'hidden_size': 128, 'num_layers': 3, 'lr': 0.0006281171375459057}. Best is trial 15 with value: 0.23818016052246094.\u001B[0m\n"
     ]
    },
    {
     "name": "stdout",
     "output_type": "stream",
     "text": [
      "| Epoch 4 | Validate | loss 0.296142 | acc 0.935770 |!!!!!!!!!!!!!!!!!!!!!!!!!\n",
      "Early stopping triggered at epoch 7.\n",
      "Best epoch is: 5\n"
     ]
    },
    {
     "name": "stderr",
     "output_type": "stream",
     "text": [
      "100%|██████████| 439/439 [00:21<00:00, 20.77it/s]\n"
     ]
    },
    {
     "name": "stdout",
     "output_type": "stream",
     "text": [
      "| Epoch 1 | Train | loss 0.543221 | acc 0.862794 |\n"
     ]
    },
    {
     "name": "stderr",
     "output_type": "stream",
     "text": [
      "100%|██████████| 102/102 [00:01<00:00, 65.50it/s]\n"
     ]
    },
    {
     "name": "stdout",
     "output_type": "stream",
     "text": [
      "| Epoch 4 | Validate | loss 0.321441 | acc 0.906487 |!!!!!!!!!!!!!!!!!!!!!!!!!\n",
      "| Epoch 1 | New best validation loss: 0.3214 **********************\n"
     ]
    },
    {
     "name": "stderr",
     "output_type": "stream",
     "text": [
      "100%|██████████| 439/439 [00:21<00:00, 20.76it/s]\n"
     ]
    },
    {
     "name": "stdout",
     "output_type": "stream",
     "text": [
      "| Epoch 2 | Train | loss 0.221686 | acc 0.934486 |\n"
     ]
    },
    {
     "name": "stderr",
     "output_type": "stream",
     "text": [
      "100%|██████████| 102/102 [00:01<00:00, 64.94it/s]\n"
     ]
    },
    {
     "name": "stdout",
     "output_type": "stream",
     "text": [
      "| Epoch 4 | Validate | loss 0.259568 | acc 0.926969 |!!!!!!!!!!!!!!!!!!!!!!!!!\n",
      "| Epoch 2 | New best validation loss: 0.2596 **********************\n"
     ]
    },
    {
     "name": "stderr",
     "output_type": "stream",
     "text": [
      "100%|██████████| 439/439 [00:21<00:00, 20.77it/s]\n"
     ]
    },
    {
     "name": "stdout",
     "output_type": "stream",
     "text": [
      "| Epoch 3 | Train | loss 0.142000 | acc 0.958020 |\n"
     ]
    },
    {
     "name": "stderr",
     "output_type": "stream",
     "text": [
      "100%|██████████| 102/102 [00:01<00:00, 65.04it/s]\n"
     ]
    },
    {
     "name": "stdout",
     "output_type": "stream",
     "text": [
      "| Epoch 4 | Validate | loss 0.290885 | acc 0.926152 |!!!!!!!!!!!!!!!!!!!!!!!!!\n"
     ]
    },
    {
     "name": "stderr",
     "output_type": "stream",
     "text": [
      "100%|██████████| 439/439 [00:21<00:00, 20.75it/s]\n"
     ]
    },
    {
     "name": "stdout",
     "output_type": "stream",
     "text": [
      "| Epoch 4 | Train | loss 0.113382 | acc 0.965642 |\n"
     ]
    },
    {
     "name": "stderr",
     "output_type": "stream",
     "text": [
      "100%|██████████| 102/102 [00:01<00:00, 65.22it/s]\n",
      "\u001B[32m[I 2023-03-16 19:41:05,205]\u001B[0m Trial 28 finished with value: 0.2595675587654114 and parameters: {'embed_size': 512, 'num_heads': 4, 'hidden_size': 256, 'num_layers': 4, 'lr': 0.0004924273743615496}. Best is trial 15 with value: 0.23818016052246094.\u001B[0m\n"
     ]
    },
    {
     "name": "stdout",
     "output_type": "stream",
     "text": [
      "| Epoch 4 | Validate | loss 0.304296 | acc 0.931194 |!!!!!!!!!!!!!!!!!!!!!!!!!\n",
      "Early stopping triggered at epoch 4.\n",
      "Best epoch is: 2\n"
     ]
    },
    {
     "name": "stderr",
     "output_type": "stream",
     "text": [
      "100%|██████████| 439/439 [00:07<00:00, 57.22it/s]\n"
     ]
    },
    {
     "name": "stdout",
     "output_type": "stream",
     "text": [
      "| Epoch 1 | Train | loss 0.468313 | acc 0.876177 |\n"
     ]
    },
    {
     "name": "stderr",
     "output_type": "stream",
     "text": [
      "100%|██████████| 102/102 [00:00<00:00, 160.39it/s]\n"
     ]
    },
    {
     "name": "stdout",
     "output_type": "stream",
     "text": [
      "| Epoch 4 | Validate | loss 0.323180 | acc 0.908123 |!!!!!!!!!!!!!!!!!!!!!!!!!\n",
      "| Epoch 1 | New best validation loss: 0.3232 **********************\n"
     ]
    },
    {
     "name": "stderr",
     "output_type": "stream",
     "text": [
      "100%|██████████| 439/439 [00:07<00:00, 57.39it/s]\n"
     ]
    },
    {
     "name": "stdout",
     "output_type": "stream",
     "text": [
      "| Epoch 2 | Train | loss 0.206392 | acc 0.938209 |\n"
     ]
    },
    {
     "name": "stderr",
     "output_type": "stream",
     "text": [
      "100%|██████████| 102/102 [00:00<00:00, 158.59it/s]\n"
     ]
    },
    {
     "name": "stdout",
     "output_type": "stream",
     "text": [
      "| Epoch 4 | Validate | loss 0.263108 | acc 0.927690 |!!!!!!!!!!!!!!!!!!!!!!!!!\n",
      "| Epoch 2 | New best validation loss: 0.2631 **********************\n"
     ]
    },
    {
     "name": "stderr",
     "output_type": "stream",
     "text": [
      "100%|██████████| 439/439 [00:07<00:00, 57.20it/s]\n"
     ]
    },
    {
     "name": "stdout",
     "output_type": "stream",
     "text": [
      "| Epoch 3 | Train | loss 0.118780 | acc 0.962686 |\n"
     ]
    },
    {
     "name": "stderr",
     "output_type": "stream",
     "text": [
      "100%|██████████| 102/102 [00:00<00:00, 162.94it/s]\n"
     ]
    },
    {
     "name": "stdout",
     "output_type": "stream",
     "text": [
      "| Epoch 4 | Validate | loss 0.269891 | acc 0.931077 |!!!!!!!!!!!!!!!!!!!!!!!!!\n"
     ]
    },
    {
     "name": "stderr",
     "output_type": "stream",
     "text": [
      "100%|██████████| 439/439 [00:07<00:00, 57.04it/s]\n"
     ]
    },
    {
     "name": "stdout",
     "output_type": "stream",
     "text": [
      "| Epoch 4 | Train | loss 0.080585 | acc 0.973736 |\n"
     ]
    },
    {
     "name": "stderr",
     "output_type": "stream",
     "text": [
      "100%|██████████| 102/102 [00:00<00:00, 160.12it/s]\n",
      "\u001B[32m[I 2023-03-16 19:41:38,520]\u001B[0m Trial 29 finished with value: 0.26310837268829346 and parameters: {'embed_size': 256, 'num_heads': 8, 'hidden_size': 512, 'num_layers': 2, 'lr': 0.00039022726015531454}. Best is trial 15 with value: 0.23818016052246094.\u001B[0m\n"
     ]
    },
    {
     "name": "stdout",
     "output_type": "stream",
     "text": [
      "| Epoch 4 | Validate | loss 0.308337 | acc 0.931934 |!!!!!!!!!!!!!!!!!!!!!!!!!\n",
      "Early stopping triggered at epoch 4.\n",
      "Best epoch is: 2\n",
      "Best trial:\n",
      "  Value: 0.2382\n",
      "  Params: \n",
      "    embed_size: 256\n",
      "    num_heads: 4\n",
      "    hidden_size: 256\n",
      "    num_layers: 3\n",
      "    lr: 0.000456008621520148\n"
     ]
    }
   ],
   "source": [
    "torch.manual_seed(321)\n",
    "device = torch.device(\"cuda\" if torch.cuda.is_available() else \"cpu\")\n",
    "print(device)\n",
    "\n",
    "#hyperparameters\n",
    "BATCH_SIZE = 32\n",
    "max_epochs = 10\n",
    "patience = 2\n",
    "\n",
    "# data loaders\n",
    "train_dataloader = DataLoader(tr_data, batch_size = BATCH_SIZE, shuffle=True)\n",
    "val_dataloader = DataLoader(va_data, batch_size = BATCH_SIZE)\n",
    "test_dataloader = DataLoader(te_data, batch_size = BATCH_SIZE)\n",
    "\n",
    "study = optuna.create_study(direction=\"minimize\")\n",
    "study.optimize(objective, n_trials=30)\n",
    "print(\"Best trial:\")\n",
    "trial = study.best_trial\n",
    "print(f\"  Value: {trial.value:.4f}\")\n",
    "print(\"  Params: \")\n",
    "for key, value in trial.params.items():\n",
    "    print(f\"    {key}: {value}\")"
   ],
   "metadata": {
    "collapsed": false
   }
  },
  {
   "cell_type": "code",
   "execution_count": 28,
   "outputs": [
    {
     "name": "stdout",
     "output_type": "stream",
     "text": [
      "processed 54612 tokens with 5942 phrases; found: 5956 phrases; correct: 4140.\n",
      "accuracy:  67.53%; (non-O)\n",
      "accuracy:  93.80%; precision:  69.51%; recall:  69.67%; FB1:  69.59\n",
      "              LOC: precision:  83.95%; recall:  80.89%; FB1:  82.40  1770\n",
      "             MISC: precision:  76.70%; recall:  72.13%; FB1:  74.34  867\n",
      "              ORG: precision:  58.69%; recall:  61.45%; FB1:  60.04  1404\n",
      "              PER: precision:  60.84%; recall:  63.25%; FB1:  62.02  1915\n"
     ]
    },
    {
     "data": {
      "text/plain": "(69.50973807924782, 69.67351060249074, 69.59152798789712)"
     },
     "execution_count": 28,
     "metadata": {},
     "output_type": "execute_result"
    }
   ],
   "source": [
    "prediction = predict(model, val_dataloader, device)\n",
    "pred_tags = []\n",
    "for tags in prediction:\n",
    "    pred_tags.extend(tags)\n",
    "    pred_tags.append('O')\n",
    "\n",
    "true_tags = []\n",
    "for tags in val_raw['tags']:\n",
    "    true_tags.extend(tags.strip().split())\n",
    "    true_tags.append('O')\n",
    "\n",
    "evaluate(true_tags, pred_tags)"
   ],
   "metadata": {
    "collapsed": false
   }
  },
  {
   "cell_type": "code",
   "execution_count": null,
   "outputs": [],
   "source": [
    "samplenum = 2166\n",
    "\n",
    "print(val_raw['text'][samplenum])\n",
    "print(val_raw['tags'][samplenum])\n",
    "print(prediction[samplenum])"
   ],
   "metadata": {
    "collapsed": false
   }
  },
  {
   "cell_type": "code",
   "source": [
    "# YOU SHOULD NOT CHANGE THIS CODEBLOCK\n",
    "# make prediction on the test set and save to submission.txt\n",
    "preds = predict(model, test_dataloader, device)\n",
    "with open(\"submission.txt\", \"w\") as f:\n",
    "    for tags in preds:\n",
    "        f.write(\" \".join(tags) + \"\\n\")"
   ],
   "metadata": {
    "execution": {
     "iopub.status.busy": "2022-02-17T08:25:45.395550Z",
     "iopub.execute_input": "2022-02-17T08:25:45.395822Z",
     "iopub.status.idle": "2022-02-17T08:25:46.111937Z",
     "shell.execute_reply.started": "2022-02-17T08:25:45.395787Z",
     "shell.execute_reply": "2022-02-17T08:25:46.111234Z"
    },
    "trusted": true,
    "id": "dVt102qy5LSs"
   },
   "execution_count": 29,
   "outputs": [
    {
     "name": "stderr",
     "output_type": "stream",
     "text": [
      "100%|██████████| 108/108 [00:01<00:00, 102.07it/s]\n"
     ]
    }
   ]
  },
  {
   "cell_type": "code",
   "source": [
    "pwd"
   ],
   "metadata": {
    "execution": {
     "iopub.status.busy": "2022-02-17T08:27:24.950886Z",
     "iopub.execute_input": "2022-02-17T08:27:24.951166Z",
     "iopub.status.idle": "2022-02-17T08:27:24.957143Z",
     "shell.execute_reply.started": "2022-02-17T08:27:24.951135Z",
     "shell.execute_reply": "2022-02-17T08:27:24.956414Z"
    },
    "trusted": true,
    "id": "jJOtOKyR5LSs"
   },
   "execution_count": null,
   "outputs": []
  },
  {
   "cell_type": "code",
   "source": [
    "ls"
   ],
   "metadata": {
    "execution": {
     "iopub.status.busy": "2022-02-17T08:27:30.109566Z",
     "iopub.execute_input": "2022-02-17T08:27:30.109841Z",
     "iopub.status.idle": "2022-02-17T08:27:30.796831Z",
     "shell.execute_reply.started": "2022-02-17T08:27:30.109811Z",
     "shell.execute_reply": "2022-02-17T08:27:30.795875Z"
    },
    "trusted": true,
    "id": "5VquJfjq5LSs"
   },
   "execution_count": null,
   "outputs": []
  }
 ]
}
